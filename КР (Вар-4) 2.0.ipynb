{
 "cells": [
  {
   "cell_type": "markdown",
   "id": "6915d6d2",
   "metadata": {},
   "source": [
    "# Data Preprocessing"
   ]
  },
  {
   "cell_type": "code",
   "execution_count": 13,
   "id": "3abb2be2",
   "metadata": {},
   "outputs": [],
   "source": [
    "#!pip install numpy\n",
    "#!pip install matplotlib\n",
    "#!pip install pandas"
   ]
  },
  {
   "cell_type": "markdown",
   "id": "e97cccda",
   "metadata": {},
   "source": [
    "# Importing Data"
   ]
  },
  {
   "cell_type": "code",
   "execution_count": 88,
   "id": "af36aec3",
   "metadata": {},
   "outputs": [],
   "source": [
    "# Importing the libraries\n",
    "import numpy as np\n",
    "import matplotlib.pyplot as plt\n",
    "import pandas as pd"
   ]
  },
  {
   "cell_type": "code",
   "execution_count": 89,
   "id": "4be20736",
   "metadata": {},
   "outputs": [],
   "source": [
    "# Importing the dataset\n",
    "df = pd.read_excel('КР-1.xlsx', sheet_name='Вар (4)')"
   ]
  },
  {
   "cell_type": "code",
   "execution_count": 90,
   "id": "c80a1b84",
   "metadata": {},
   "outputs": [
    {
     "data": {
      "text/html": [
       "<div>\n",
       "<style scoped>\n",
       "    .dataframe tbody tr th:only-of-type {\n",
       "        vertical-align: middle;\n",
       "    }\n",
       "\n",
       "    .dataframe tbody tr th {\n",
       "        vertical-align: top;\n",
       "    }\n",
       "\n",
       "    .dataframe thead th {\n",
       "        text-align: right;\n",
       "    }\n",
       "</style>\n",
       "<table border=\"1\" class=\"dataframe\">\n",
       "  <thead>\n",
       "    <tr style=\"text-align: right;\">\n",
       "      <th></th>\n",
       "      <th>Торговельна площа, кв м</th>\n",
       "      <th>Этаж</th>\n",
       "      <th>Количество касс</th>\n",
       "      <th>Тип</th>\n",
       "      <th>Рейтинг в гуглі</th>\n",
       "      <th>Количество чеков</th>\n",
       "      <th>Средний чек</th>\n",
       "      <th>Населення</th>\n",
       "      <th>Середній дохід населення</th>\n",
       "      <th>Спеціалізоване мясо</th>\n",
       "      <th>Спеціалізований сир</th>\n",
       "      <th>Спеціалізована поб хімія</th>\n",
       "      <th>Супермаркет</th>\n",
       "      <th>Магазин біля дому</th>\n",
       "    </tr>\n",
       "  </thead>\n",
       "  <tbody>\n",
       "    <tr>\n",
       "      <th>0</th>\n",
       "      <td>9.00</td>\n",
       "      <td>1</td>\n",
       "      <td>1</td>\n",
       "      <td>старий</td>\n",
       "      <td>3.0</td>\n",
       "      <td>659.0</td>\n",
       "      <td>76.85</td>\n",
       "      <td>108.0</td>\n",
       "      <td>14910.0</td>\n",
       "      <td>1</td>\n",
       "      <td>1</td>\n",
       "      <td>0</td>\n",
       "      <td>1</td>\n",
       "      <td>1</td>\n",
       "    </tr>\n",
       "    <tr>\n",
       "      <th>1</th>\n",
       "      <td>22.00</td>\n",
       "      <td>1</td>\n",
       "      <td>1</td>\n",
       "      <td>старий</td>\n",
       "      <td>4.1</td>\n",
       "      <td>1518.0</td>\n",
       "      <td>84.86</td>\n",
       "      <td>750.0</td>\n",
       "      <td>9030.0</td>\n",
       "      <td>0</td>\n",
       "      <td>0</td>\n",
       "      <td>0</td>\n",
       "      <td>1</td>\n",
       "      <td>1</td>\n",
       "    </tr>\n",
       "    <tr>\n",
       "      <th>2</th>\n",
       "      <td>13.00</td>\n",
       "      <td>1</td>\n",
       "      <td>1</td>\n",
       "      <td>старий</td>\n",
       "      <td>3.0</td>\n",
       "      <td>476.0</td>\n",
       "      <td>112.02</td>\n",
       "      <td>0.0</td>\n",
       "      <td>9030.0</td>\n",
       "      <td>0</td>\n",
       "      <td>0</td>\n",
       "      <td>0</td>\n",
       "      <td>0</td>\n",
       "      <td>0</td>\n",
       "    </tr>\n",
       "    <tr>\n",
       "      <th>3</th>\n",
       "      <td>18.00</td>\n",
       "      <td>1</td>\n",
       "      <td>1</td>\n",
       "      <td>старий</td>\n",
       "      <td>3.0</td>\n",
       "      <td>1310.0</td>\n",
       "      <td>119.80</td>\n",
       "      <td>0.0</td>\n",
       "      <td>13930.0</td>\n",
       "      <td>1</td>\n",
       "      <td>0</td>\n",
       "      <td>0</td>\n",
       "      <td>1</td>\n",
       "      <td>1</td>\n",
       "    </tr>\n",
       "    <tr>\n",
       "      <th>4</th>\n",
       "      <td>25.00</td>\n",
       "      <td>1</td>\n",
       "      <td>1</td>\n",
       "      <td>новий</td>\n",
       "      <td>4.0</td>\n",
       "      <td>2029.0</td>\n",
       "      <td>94.88</td>\n",
       "      <td>0.0</td>\n",
       "      <td>14560.0</td>\n",
       "      <td>0</td>\n",
       "      <td>0</td>\n",
       "      <td>0</td>\n",
       "      <td>0</td>\n",
       "      <td>0</td>\n",
       "    </tr>\n",
       "    <tr>\n",
       "      <th>...</th>\n",
       "      <td>...</td>\n",
       "      <td>...</td>\n",
       "      <td>...</td>\n",
       "      <td>...</td>\n",
       "      <td>...</td>\n",
       "      <td>...</td>\n",
       "      <td>...</td>\n",
       "      <td>...</td>\n",
       "      <td>...</td>\n",
       "      <td>...</td>\n",
       "      <td>...</td>\n",
       "      <td>...</td>\n",
       "      <td>...</td>\n",
       "      <td>...</td>\n",
       "    </tr>\n",
       "    <tr>\n",
       "      <th>64</th>\n",
       "      <td>40.78</td>\n",
       "      <td>1</td>\n",
       "      <td>2</td>\n",
       "      <td>новий</td>\n",
       "      <td>4.0</td>\n",
       "      <td>6884.0</td>\n",
       "      <td>107.37</td>\n",
       "      <td>963.0</td>\n",
       "      <td>9800.0</td>\n",
       "      <td>0</td>\n",
       "      <td>0</td>\n",
       "      <td>1</td>\n",
       "      <td>0</td>\n",
       "      <td>0</td>\n",
       "    </tr>\n",
       "    <tr>\n",
       "      <th>65</th>\n",
       "      <td>21.50</td>\n",
       "      <td>1</td>\n",
       "      <td>1</td>\n",
       "      <td>новий</td>\n",
       "      <td>2.3</td>\n",
       "      <td>4721.0</td>\n",
       "      <td>89.13</td>\n",
       "      <td>0.0</td>\n",
       "      <td>12600.0</td>\n",
       "      <td>1</td>\n",
       "      <td>1</td>\n",
       "      <td>1</td>\n",
       "      <td>0</td>\n",
       "      <td>0</td>\n",
       "    </tr>\n",
       "    <tr>\n",
       "      <th>66</th>\n",
       "      <td>115.23</td>\n",
       "      <td>1</td>\n",
       "      <td>1</td>\n",
       "      <td>старий</td>\n",
       "      <td>3.0</td>\n",
       "      <td>3286.0</td>\n",
       "      <td>105.62</td>\n",
       "      <td>315.0</td>\n",
       "      <td>10570.0</td>\n",
       "      <td>0</td>\n",
       "      <td>0</td>\n",
       "      <td>0</td>\n",
       "      <td>0</td>\n",
       "      <td>1</td>\n",
       "    </tr>\n",
       "    <tr>\n",
       "      <th>67</th>\n",
       "      <td>34.80</td>\n",
       "      <td>1</td>\n",
       "      <td>2</td>\n",
       "      <td>новий</td>\n",
       "      <td>4.3</td>\n",
       "      <td>3963.0</td>\n",
       "      <td>168.07</td>\n",
       "      <td>0.0</td>\n",
       "      <td>12460.0</td>\n",
       "      <td>1</td>\n",
       "      <td>1</td>\n",
       "      <td>0</td>\n",
       "      <td>0</td>\n",
       "      <td>0</td>\n",
       "    </tr>\n",
       "    <tr>\n",
       "      <th>68</th>\n",
       "      <td>22.00</td>\n",
       "      <td>1</td>\n",
       "      <td>1</td>\n",
       "      <td>новий</td>\n",
       "      <td>4.9</td>\n",
       "      <td>4200.0</td>\n",
       "      <td>101.73</td>\n",
       "      <td>678.0</td>\n",
       "      <td>10430.0</td>\n",
       "      <td>1</td>\n",
       "      <td>1</td>\n",
       "      <td>0</td>\n",
       "      <td>0</td>\n",
       "      <td>0</td>\n",
       "    </tr>\n",
       "  </tbody>\n",
       "</table>\n",
       "<p>69 rows × 14 columns</p>\n",
       "</div>"
      ],
      "text/plain": [
       "    Торговельна площа, кв м  Этаж  Количество касс     Тип  Рейтинг в гуглі  \\\n",
       "0                      9.00     1                1  старий              3.0   \n",
       "1                     22.00     1                1  старий              4.1   \n",
       "2                     13.00     1                1  старий              3.0   \n",
       "3                     18.00     1                1  старий              3.0   \n",
       "4                     25.00     1                1   новий              4.0   \n",
       "..                      ...   ...              ...     ...              ...   \n",
       "64                    40.78     1                2   новий              4.0   \n",
       "65                    21.50     1                1   новий              2.3   \n",
       "66                   115.23     1                1  старий              3.0   \n",
       "67                    34.80     1                2   новий              4.3   \n",
       "68                    22.00     1                1   новий              4.9   \n",
       "\n",
       "    Количество чеков  Средний чек  Населення  Середній дохід населення  \\\n",
       "0              659.0        76.85      108.0                   14910.0   \n",
       "1             1518.0        84.86      750.0                    9030.0   \n",
       "2              476.0       112.02        0.0                    9030.0   \n",
       "3             1310.0       119.80        0.0                   13930.0   \n",
       "4             2029.0        94.88        0.0                   14560.0   \n",
       "..               ...          ...        ...                       ...   \n",
       "64            6884.0       107.37      963.0                    9800.0   \n",
       "65            4721.0        89.13        0.0                   12600.0   \n",
       "66            3286.0       105.62      315.0                   10570.0   \n",
       "67            3963.0       168.07        0.0                   12460.0   \n",
       "68            4200.0       101.73      678.0                   10430.0   \n",
       "\n",
       "    Спеціалізоване мясо  Спеціалізований сир  Спеціалізована поб хімія  \\\n",
       "0                     1                    1                         0   \n",
       "1                     0                    0                         0   \n",
       "2                     0                    0                         0   \n",
       "3                     1                    0                         0   \n",
       "4                     0                    0                         0   \n",
       "..                  ...                  ...                       ...   \n",
       "64                    0                    0                         1   \n",
       "65                    1                    1                         1   \n",
       "66                    0                    0                         0   \n",
       "67                    1                    1                         0   \n",
       "68                    1                    1                         0   \n",
       "\n",
       "    Супермаркет  Магазин біля дому  \n",
       "0             1                  1  \n",
       "1             1                  1  \n",
       "2             0                  0  \n",
       "3             1                  1  \n",
       "4             0                  0  \n",
       "..          ...                ...  \n",
       "64            0                  0  \n",
       "65            0                  0  \n",
       "66            0                  1  \n",
       "67            0                  0  \n",
       "68            0                  0  \n",
       "\n",
       "[69 rows x 14 columns]"
      ]
     },
     "execution_count": 90,
     "metadata": {},
     "output_type": "execute_result"
    }
   ],
   "source": [
    "df"
   ]
  },
  {
   "cell_type": "code",
   "execution_count": 91,
   "id": "3a333d19",
   "metadata": {},
   "outputs": [
    {
     "name": "stdout",
     "output_type": "stream",
     "text": [
      "<class 'pandas.core.frame.DataFrame'>\n",
      "RangeIndex: 69 entries, 0 to 68\n",
      "Data columns (total 14 columns):\n",
      " #   Column                    Non-Null Count  Dtype  \n",
      "---  ------                    --------------  -----  \n",
      " 0   Торговельна площа, кв м   69 non-null     float64\n",
      " 1   Этаж                      69 non-null     int64  \n",
      " 2   Количество касс           69 non-null     int64  \n",
      " 3   Тип                       69 non-null     object \n",
      " 4   Рейтинг в гуглі           69 non-null     float64\n",
      " 5   Количество чеков          69 non-null     float64\n",
      " 6   Средний чек               62 non-null     float64\n",
      " 7   Населення                 64 non-null     float64\n",
      " 8   Середній дохід населення  64 non-null     float64\n",
      " 9   Спеціалізоване мясо       69 non-null     int64  \n",
      " 10  Спеціалізований сир       69 non-null     int64  \n",
      " 11  Спеціалізована поб хімія  69 non-null     int64  \n",
      " 12  Супермаркет               69 non-null     int64  \n",
      " 13  Магазин біля дому         69 non-null     int64  \n",
      "dtypes: float64(6), int64(7), object(1)\n",
      "memory usage: 7.3+ KB\n"
     ]
    }
   ],
   "source": [
    "df.info()"
   ]
  },
  {
   "cell_type": "code",
   "execution_count": 92,
   "id": "1474ff90",
   "metadata": {},
   "outputs": [],
   "source": [
    "# Drop useless\n",
    "df = df.drop(['Этаж'], axis='columns', inplace=False)"
   ]
  },
  {
   "cell_type": "code",
   "execution_count": 93,
   "id": "fddadd94",
   "metadata": {},
   "outputs": [
    {
     "data": {
      "text/html": [
       "<div>\n",
       "<style scoped>\n",
       "    .dataframe tbody tr th:only-of-type {\n",
       "        vertical-align: middle;\n",
       "    }\n",
       "\n",
       "    .dataframe tbody tr th {\n",
       "        vertical-align: top;\n",
       "    }\n",
       "\n",
       "    .dataframe thead th {\n",
       "        text-align: right;\n",
       "    }\n",
       "</style>\n",
       "<table border=\"1\" class=\"dataframe\">\n",
       "  <thead>\n",
       "    <tr style=\"text-align: right;\">\n",
       "      <th></th>\n",
       "      <th>Торговельна площа, кв м</th>\n",
       "      <th>Количество касс</th>\n",
       "      <th>Тип</th>\n",
       "      <th>Рейтинг в гуглі</th>\n",
       "      <th>Количество чеков</th>\n",
       "      <th>Средний чек</th>\n",
       "      <th>Населення</th>\n",
       "      <th>Середній дохід населення</th>\n",
       "      <th>Спеціалізоване мясо</th>\n",
       "      <th>Спеціалізований сир</th>\n",
       "      <th>Спеціалізована поб хімія</th>\n",
       "      <th>Супермаркет</th>\n",
       "      <th>Магазин біля дому</th>\n",
       "    </tr>\n",
       "  </thead>\n",
       "  <tbody>\n",
       "    <tr>\n",
       "      <th>0</th>\n",
       "      <td>9.0</td>\n",
       "      <td>1</td>\n",
       "      <td>старий</td>\n",
       "      <td>3.0</td>\n",
       "      <td>659.0</td>\n",
       "      <td>76.85</td>\n",
       "      <td>108.0</td>\n",
       "      <td>14910.0</td>\n",
       "      <td>1</td>\n",
       "      <td>1</td>\n",
       "      <td>0</td>\n",
       "      <td>1</td>\n",
       "      <td>1</td>\n",
       "    </tr>\n",
       "    <tr>\n",
       "      <th>1</th>\n",
       "      <td>22.0</td>\n",
       "      <td>1</td>\n",
       "      <td>старий</td>\n",
       "      <td>4.1</td>\n",
       "      <td>1518.0</td>\n",
       "      <td>84.86</td>\n",
       "      <td>750.0</td>\n",
       "      <td>9030.0</td>\n",
       "      <td>0</td>\n",
       "      <td>0</td>\n",
       "      <td>0</td>\n",
       "      <td>1</td>\n",
       "      <td>1</td>\n",
       "    </tr>\n",
       "    <tr>\n",
       "      <th>2</th>\n",
       "      <td>13.0</td>\n",
       "      <td>1</td>\n",
       "      <td>старий</td>\n",
       "      <td>3.0</td>\n",
       "      <td>476.0</td>\n",
       "      <td>112.02</td>\n",
       "      <td>0.0</td>\n",
       "      <td>9030.0</td>\n",
       "      <td>0</td>\n",
       "      <td>0</td>\n",
       "      <td>0</td>\n",
       "      <td>0</td>\n",
       "      <td>0</td>\n",
       "    </tr>\n",
       "    <tr>\n",
       "      <th>3</th>\n",
       "      <td>18.0</td>\n",
       "      <td>1</td>\n",
       "      <td>старий</td>\n",
       "      <td>3.0</td>\n",
       "      <td>1310.0</td>\n",
       "      <td>119.80</td>\n",
       "      <td>0.0</td>\n",
       "      <td>13930.0</td>\n",
       "      <td>1</td>\n",
       "      <td>0</td>\n",
       "      <td>0</td>\n",
       "      <td>1</td>\n",
       "      <td>1</td>\n",
       "    </tr>\n",
       "    <tr>\n",
       "      <th>4</th>\n",
       "      <td>25.0</td>\n",
       "      <td>1</td>\n",
       "      <td>новий</td>\n",
       "      <td>4.0</td>\n",
       "      <td>2029.0</td>\n",
       "      <td>94.88</td>\n",
       "      <td>0.0</td>\n",
       "      <td>14560.0</td>\n",
       "      <td>0</td>\n",
       "      <td>0</td>\n",
       "      <td>0</td>\n",
       "      <td>0</td>\n",
       "      <td>0</td>\n",
       "    </tr>\n",
       "  </tbody>\n",
       "</table>\n",
       "</div>"
      ],
      "text/plain": [
       "   Торговельна площа, кв м  Количество касс     Тип  Рейтинг в гуглі  \\\n",
       "0                      9.0                1  старий              3.0   \n",
       "1                     22.0                1  старий              4.1   \n",
       "2                     13.0                1  старий              3.0   \n",
       "3                     18.0                1  старий              3.0   \n",
       "4                     25.0                1   новий              4.0   \n",
       "\n",
       "   Количество чеков  Средний чек  Населення  Середній дохід населення  \\\n",
       "0             659.0        76.85      108.0                   14910.0   \n",
       "1            1518.0        84.86      750.0                    9030.0   \n",
       "2             476.0       112.02        0.0                    9030.0   \n",
       "3            1310.0       119.80        0.0                   13930.0   \n",
       "4            2029.0        94.88        0.0                   14560.0   \n",
       "\n",
       "   Спеціалізоване мясо  Спеціалізований сир  Спеціалізована поб хімія  \\\n",
       "0                    1                    1                         0   \n",
       "1                    0                    0                         0   \n",
       "2                    0                    0                         0   \n",
       "3                    1                    0                         0   \n",
       "4                    0                    0                         0   \n",
       "\n",
       "   Супермаркет  Магазин біля дому  \n",
       "0            1                  1  \n",
       "1            1                  1  \n",
       "2            0                  0  \n",
       "3            1                  1  \n",
       "4            0                  0  "
      ]
     },
     "execution_count": 93,
     "metadata": {},
     "output_type": "execute_result"
    }
   ],
   "source": [
    "df.head(5)"
   ]
  },
  {
   "cell_type": "markdown",
   "id": "ed4e528a",
   "metadata": {},
   "source": [
    "# Visualization"
   ]
  },
  {
   "cell_type": "code",
   "execution_count": 105,
   "id": "8fa6f039",
   "metadata": {},
   "outputs": [
    {
     "data": {
      "text/plain": [
       "<AxesSubplot:ylabel='Frequency'>"
      ]
     },
     "execution_count": 105,
     "metadata": {},
     "output_type": "execute_result"
    },
    {
     "data": {
      "image/png": "[encoded data removed]",
      "text/plain": [
       "<Figure size 432x288 with 1 Axes>"
      ]
     },
     "metadata": {
      "needs_background": "light"
     },
     "output_type": "display_data"
    }
   ],
   "source": [
    "# Feature distribution\n",
    "df['Торговельна площа, кв м'].plot(kind='hist')"
   ]
  },
  {
   "cell_type": "code",
   "execution_count": 106,
   "id": "3bc79fb8",
   "metadata": {},
   "outputs": [
    {
     "data": {
      "text/plain": [
       "<AxesSubplot:ylabel='Frequency'>"
      ]
     },
     "execution_count": 106,
     "metadata": {},
     "output_type": "execute_result"
    },
    {
     "data": {
      "image/png": "[encoded data removed]",
      "text/plain": [
       "<Figure size 432x288 with 1 Axes>"
      ]
     },
     "metadata": {
      "needs_background": "light"
     },
     "output_type": "display_data"
    }
   ],
   "source": [
    "# Feature distribution\n",
    "df['Количество касс'].plot(kind='hist')"
   ]
  },
  {
   "cell_type": "code",
   "execution_count": 107,
   "id": "f08f90ed",
   "metadata": {},
   "outputs": [
    {
     "data": {
      "text/plain": [
       "<AxesSubplot:ylabel='Frequency'>"
      ]
     },
     "execution_count": 107,
     "metadata": {},
     "output_type": "execute_result"
    },
    {
     "data": {
      "image/png": "[encoded data removed]",
      "text/plain": [
       "<Figure size 432x288 with 1 Axes>"
      ]
     },
     "metadata": {
      "needs_background": "light"
     },
     "output_type": "display_data"
    }
   ],
   "source": [
    "# Feature distribution\n",
    "df['Рейтинг в гуглі'].plot(kind='hist')"
   ]
  },
  {
   "cell_type": "code",
   "execution_count": 108,
   "id": "f9bc4ded",
   "metadata": {},
   "outputs": [
    {
     "data": {
      "text/plain": [
       "<AxesSubplot:ylabel='Frequency'>"
      ]
     },
     "execution_count": 108,
     "metadata": {},
     "output_type": "execute_result"
    },
    {
     "data": {
      "image/png": "[encoded data removed]",
      "text/plain": [
       "<Figure size 432x288 with 1 Axes>"
      ]
     },
     "metadata": {
      "needs_background": "light"
     },
     "output_type": "display_data"
    }
   ],
   "source": [
    "# Feature distribution\n",
    "df['Количество чеков'].plot(kind='hist')"
   ]
  },
  {
   "cell_type": "code",
   "execution_count": 109,
   "id": "098e3197",
   "metadata": {},
   "outputs": [
    {
     "data": {
      "text/plain": [
       "<AxesSubplot:ylabel='Frequency'>"
      ]
     },
     "execution_count": 109,
     "metadata": {},
     "output_type": "execute_result"
    },
    {
     "data": {
      "image/png": "[encoded data removed]",
      "text/plain": [
       "<Figure size 432x288 with 1 Axes>"
      ]
     },
     "metadata": {
      "needs_background": "light"
     },
     "output_type": "display_data"
    }
   ],
   "source": [
    "# Feature distribution\n",
    "df['Средний чек'].plot(kind='hist')"
   ]
  },
  {
   "cell_type": "code",
   "execution_count": 110,
   "id": "3525027c",
   "metadata": {},
   "outputs": [
    {
     "data": {
      "text/plain": [
       "<AxesSubplot:ylabel='Frequency'>"
      ]
     },
     "execution_count": 110,
     "metadata": {},
     "output_type": "execute_result"
    },
    {
     "data": {
      "image/png": "[encoded data removed]",
      "text/plain": [
       "<Figure size 432x288 with 1 Axes>"
      ]
     },
     "metadata": {
      "needs_background": "light"
     },
     "output_type": "display_data"
    }
   ],
   "source": [
    "# Feature distribution\n",
    "df['Населення'].plot(kind='hist')"
   ]
  },
  {
   "cell_type": "code",
   "execution_count": 111,
   "id": "381b3dfe",
   "metadata": {},
   "outputs": [
    {
     "data": {
      "text/plain": [
       "<AxesSubplot:ylabel='Frequency'>"
      ]
     },
     "execution_count": 111,
     "metadata": {},
     "output_type": "execute_result"
    },
    {
     "data": {
      "image/png": "[encoded data removed]",
      "text/plain": [
       "<Figure size 432x288 with 1 Axes>"
      ]
     },
     "metadata": {
      "needs_background": "light"
     },
     "output_type": "display_data"
    }
   ],
   "source": [
    "# Feature distribution\n",
    "df['Середній дохід населення'].plot(kind='hist')"
   ]
  },
  {
   "cell_type": "code",
   "execution_count": 112,
   "id": "7921c2aa",
   "metadata": {},
   "outputs": [
    {
     "data": {
      "text/plain": [
       "<AxesSubplot:ylabel='Frequency'>"
      ]
     },
     "execution_count": 112,
     "metadata": {},
     "output_type": "execute_result"
    },
    {
     "data": {
      "image/png": "[encoded data removed]",
      "text/plain": [
       "<Figure size 432x288 with 1 Axes>"
      ]
     },
     "metadata": {
      "needs_background": "light"
     },
     "output_type": "display_data"
    }
   ],
   "source": [
    "# Feature distribution\n",
    "df['Спеціалізоване мясо'].plot(kind='hist') "
   ]
  },
  {
   "cell_type": "code",
   "execution_count": 113,
   "id": "a98d9afb",
   "metadata": {},
   "outputs": [
    {
     "data": {
      "text/plain": [
       "<AxesSubplot:ylabel='Frequency'>"
      ]
     },
     "execution_count": 113,
     "metadata": {},
     "output_type": "execute_result"
    },
    {
     "data": {
      "image/png": "[encoded data removed]",
      "text/plain": [
       "<Figure size 432x288 with 1 Axes>"
      ]
     },
     "metadata": {
      "needs_background": "light"
     },
     "output_type": "display_data"
    }
   ],
   "source": [
    "# Feature distribution\n",
    "df['Спеціалізований сир'].plot(kind='hist')"
   ]
  },
  {
   "cell_type": "code",
   "execution_count": 114,
   "id": "6c8ab815",
   "metadata": {},
   "outputs": [
    {
     "data": {
      "text/plain": [
       "<AxesSubplot:ylabel='Frequency'>"
      ]
     },
     "execution_count": 114,
     "metadata": {},
     "output_type": "execute_result"
    },
    {
     "data": {
      "image/png": "[encoded data removed]",
      "text/plain": [
       "<Figure size 432x288 with 1 Axes>"
      ]
     },
     "metadata": {
      "needs_background": "light"
     },
     "output_type": "display_data"
    }
   ],
   "source": [
    "# Feature distribution\n",
    "df['Спеціалізована поб хімія'].plot(kind='hist')"
   ]
  },
  {
   "cell_type": "code",
   "execution_count": 115,
   "id": "19f4d674",
   "metadata": {},
   "outputs": [
    {
     "data": {
      "text/plain": [
       "<AxesSubplot:ylabel='Frequency'>"
      ]
     },
     "execution_count": 115,
     "metadata": {},
     "output_type": "execute_result"
    },
    {
     "data": {
      "image/png": "[encoded data removed]",
      "text/plain": [
       "<Figure size 432x288 with 1 Axes>"
      ]
     },
     "metadata": {
      "needs_background": "light"
     },
     "output_type": "display_data"
    }
   ],
   "source": [
    "# Feature distribution\n",
    "df['Супермаркет'].plot(kind='hist')"
   ]
  },
  {
   "cell_type": "code",
   "execution_count": 116,
   "id": "8a40442d",
   "metadata": {},
   "outputs": [
    {
     "data": {
      "text/plain": [
       "<AxesSubplot:ylabel='Frequency'>"
      ]
     },
     "execution_count": 116,
     "metadata": {},
     "output_type": "execute_result"
    },
    {
     "data": {
      "image/png": "[encoded data removed]",
      "text/plain": [
       "<Figure size 432x288 with 1 Axes>"
      ]
     },
     "metadata": {
      "needs_background": "light"
     },
     "output_type": "display_data"
    }
   ],
   "source": [
    "# Feature distribution\n",
    "df['Магазин біля дому'].plot(kind='hist')"
   ]
  },
  {
   "cell_type": "markdown",
   "id": "15ec6637",
   "metadata": {},
   "source": [
    "# Statistics"
   ]
  },
  {
   "cell_type": "code",
   "execution_count": 117,
   "id": "2aedde12",
   "metadata": {},
   "outputs": [
    {
     "data": {
      "text/html": [
       "<div>\n",
       "<style scoped>\n",
       "    .dataframe tbody tr th:only-of-type {\n",
       "        vertical-align: middle;\n",
       "    }\n",
       "\n",
       "    .dataframe tbody tr th {\n",
       "        vertical-align: top;\n",
       "    }\n",
       "\n",
       "    .dataframe thead th {\n",
       "        text-align: right;\n",
       "    }\n",
       "</style>\n",
       "<table border=\"1\" class=\"dataframe\">\n",
       "  <thead>\n",
       "    <tr style=\"text-align: right;\">\n",
       "      <th></th>\n",
       "      <th>Торговельна площа, кв м</th>\n",
       "      <th>Количество касс</th>\n",
       "      <th>Рейтинг в гуглі</th>\n",
       "      <th>Количество чеков</th>\n",
       "      <th>Средний чек</th>\n",
       "      <th>Населення</th>\n",
       "      <th>Середній дохід населення</th>\n",
       "      <th>Спеціалізоване мясо</th>\n",
       "      <th>Спеціалізований сир</th>\n",
       "      <th>Спеціалізована поб хімія</th>\n",
       "      <th>Супермаркет</th>\n",
       "      <th>Магазин біля дому</th>\n",
       "    </tr>\n",
       "  </thead>\n",
       "  <tbody>\n",
       "    <tr>\n",
       "      <th>count</th>\n",
       "      <td>69.000000</td>\n",
       "      <td>69.000000</td>\n",
       "      <td>69.000000</td>\n",
       "      <td>69.000000</td>\n",
       "      <td>62.000000</td>\n",
       "      <td>64.000000</td>\n",
       "      <td>64.000000</td>\n",
       "      <td>69.000000</td>\n",
       "      <td>69.000000</td>\n",
       "      <td>69.000000</td>\n",
       "      <td>69.000000</td>\n",
       "      <td>69.000000</td>\n",
       "    </tr>\n",
       "    <tr>\n",
       "      <th>mean</th>\n",
       "      <td>34.872145</td>\n",
       "      <td>1.231884</td>\n",
       "      <td>3.810145</td>\n",
       "      <td>4084.097008</td>\n",
       "      <td>95.897581</td>\n",
       "      <td>295.953125</td>\n",
       "      <td>11418.593750</td>\n",
       "      <td>0.289855</td>\n",
       "      <td>0.231884</td>\n",
       "      <td>0.246377</td>\n",
       "      <td>0.202899</td>\n",
       "      <td>0.304348</td>\n",
       "    </tr>\n",
       "    <tr>\n",
       "      <th>std</th>\n",
       "      <td>21.704293</td>\n",
       "      <td>0.458416</td>\n",
       "      <td>0.695605</td>\n",
       "      <td>2213.334346</td>\n",
       "      <td>19.192685</td>\n",
       "      <td>322.552785</td>\n",
       "      <td>2528.015011</td>\n",
       "      <td>0.457019</td>\n",
       "      <td>0.425127</td>\n",
       "      <td>0.434057</td>\n",
       "      <td>0.405104</td>\n",
       "      <td>0.463502</td>\n",
       "    </tr>\n",
       "    <tr>\n",
       "      <th>min</th>\n",
       "      <td>4.000000</td>\n",
       "      <td>1.000000</td>\n",
       "      <td>1.800000</td>\n",
       "      <td>476.000000</td>\n",
       "      <td>65.270000</td>\n",
       "      <td>0.000000</td>\n",
       "      <td>0.000000</td>\n",
       "      <td>0.000000</td>\n",
       "      <td>0.000000</td>\n",
       "      <td>0.000000</td>\n",
       "      <td>0.000000</td>\n",
       "      <td>0.000000</td>\n",
       "    </tr>\n",
       "    <tr>\n",
       "      <th>25%</th>\n",
       "      <td>22.000000</td>\n",
       "      <td>1.000000</td>\n",
       "      <td>3.000000</td>\n",
       "      <td>2344.000000</td>\n",
       "      <td>82.420000</td>\n",
       "      <td>0.000000</td>\n",
       "      <td>10412.500000</td>\n",
       "      <td>0.000000</td>\n",
       "      <td>0.000000</td>\n",
       "      <td>0.000000</td>\n",
       "      <td>0.000000</td>\n",
       "      <td>0.000000</td>\n",
       "    </tr>\n",
       "    <tr>\n",
       "      <th>50%</th>\n",
       "      <td>27.500000</td>\n",
       "      <td>1.000000</td>\n",
       "      <td>4.000000</td>\n",
       "      <td>3995.469796</td>\n",
       "      <td>93.855000</td>\n",
       "      <td>179.500000</td>\n",
       "      <td>11515.000000</td>\n",
       "      <td>0.000000</td>\n",
       "      <td>0.000000</td>\n",
       "      <td>0.000000</td>\n",
       "      <td>0.000000</td>\n",
       "      <td>0.000000</td>\n",
       "    </tr>\n",
       "    <tr>\n",
       "      <th>75%</th>\n",
       "      <td>41.000000</td>\n",
       "      <td>1.000000</td>\n",
       "      <td>4.300000</td>\n",
       "      <td>4826.000000</td>\n",
       "      <td>102.787500</td>\n",
       "      <td>564.000000</td>\n",
       "      <td>12915.000000</td>\n",
       "      <td>1.000000</td>\n",
       "      <td>0.000000</td>\n",
       "      <td>0.000000</td>\n",
       "      <td>0.000000</td>\n",
       "      <td>1.000000</td>\n",
       "    </tr>\n",
       "    <tr>\n",
       "      <th>max</th>\n",
       "      <td>119.300000</td>\n",
       "      <td>3.000000</td>\n",
       "      <td>5.000000</td>\n",
       "      <td>9687.000000</td>\n",
       "      <td>168.070000</td>\n",
       "      <td>963.000000</td>\n",
       "      <td>15470.000000</td>\n",
       "      <td>1.000000</td>\n",
       "      <td>1.000000</td>\n",
       "      <td>1.000000</td>\n",
       "      <td>1.000000</td>\n",
       "      <td>1.000000</td>\n",
       "    </tr>\n",
       "  </tbody>\n",
       "</table>\n",
       "</div>"
      ],
      "text/plain": [
       "       Торговельна площа, кв м  Количество касс  Рейтинг в гуглі  \\\n",
       "count                69.000000        69.000000        69.000000   \n",
       "mean                 34.872145         1.231884         3.810145   \n",
       "std                  21.704293         0.458416         0.695605   \n",
       "min                   4.000000         1.000000         1.800000   \n",
       "25%                  22.000000         1.000000         3.000000   \n",
       "50%                  27.500000         1.000000         4.000000   \n",
       "75%                  41.000000         1.000000         4.300000   \n",
       "max                 119.300000         3.000000         5.000000   \n",
       "\n",
       "       Количество чеков  Средний чек   Населення  Середній дохід населення  \\\n",
       "count         69.000000    62.000000   64.000000                 64.000000   \n",
       "mean        4084.097008    95.897581  295.953125              11418.593750   \n",
       "std         2213.334346    19.192685  322.552785               2528.015011   \n",
       "min          476.000000    65.270000    0.000000                  0.000000   \n",
       "25%         2344.000000    82.420000    0.000000              10412.500000   \n",
       "50%         3995.469796    93.855000  179.500000              11515.000000   \n",
       "75%         4826.000000   102.787500  564.000000              12915.000000   \n",
       "max         9687.000000   168.070000  963.000000              15470.000000   \n",
       "\n",
       "       Спеціалізоване мясо  Спеціалізований сир  Спеціалізована поб хімія  \\\n",
       "count            69.000000            69.000000                 69.000000   \n",
       "mean              0.289855             0.231884                  0.246377   \n",
       "std               0.457019             0.425127                  0.434057   \n",
       "min               0.000000             0.000000                  0.000000   \n",
       "25%               0.000000             0.000000                  0.000000   \n",
       "50%               0.000000             0.000000                  0.000000   \n",
       "75%               1.000000             0.000000                  0.000000   \n",
       "max               1.000000             1.000000                  1.000000   \n",
       "\n",
       "       Супермаркет  Магазин біля дому  \n",
       "count    69.000000          69.000000  \n",
       "mean      0.202899           0.304348  \n",
       "std       0.405104           0.463502  \n",
       "min       0.000000           0.000000  \n",
       "25%       0.000000           0.000000  \n",
       "50%       0.000000           0.000000  \n",
       "75%       0.000000           1.000000  \n",
       "max       1.000000           1.000000  "
      ]
     },
     "execution_count": 117,
     "metadata": {},
     "output_type": "execute_result"
    }
   ],
   "source": [
    "df.describe()"
   ]
  },
  {
   "cell_type": "markdown",
   "id": "9f35303c",
   "metadata": {},
   "source": [
    "# Missing Data"
   ]
  },
  {
   "cell_type": "code",
   "execution_count": 118,
   "id": "6f78963f",
   "metadata": {},
   "outputs": [
    {
     "data": {
      "text/plain": [
       "Торговельна площа, кв м     0\n",
       "Количество касс             0\n",
       "Тип                         0\n",
       "Рейтинг в гуглі             0\n",
       "Количество чеков            0\n",
       "Средний чек                 7\n",
       "Населення                   5\n",
       "Середній дохід населення    5\n",
       "Спеціалізоване мясо         0\n",
       "Спеціалізований сир         0\n",
       "Спеціалізована поб хімія    0\n",
       "Супермаркет                 0\n",
       "Магазин біля дому           0\n",
       "dtype: int64"
      ]
     },
     "execution_count": 118,
     "metadata": {},
     "output_type": "execute_result"
    }
   ],
   "source": [
    "# Cheking Missing data\n",
    "df.isnull().sum()"
   ]
  },
  {
   "cell_type": "code",
   "execution_count": 119,
   "id": "5f126738",
   "metadata": {},
   "outputs": [
    {
     "data": {
      "text/plain": [
       "Торговельна площа, кв м     float64\n",
       "Количество касс               int64\n",
       "Тип                          object\n",
       "Рейтинг в гуглі             float64\n",
       "Количество чеков            float64\n",
       "Средний чек                 float64\n",
       "Населення                   float64\n",
       "Середній дохід населення    float64\n",
       "Спеціалізоване мясо           int64\n",
       "Спеціалізований сир           int64\n",
       "Спеціалізована поб хімія      int64\n",
       "Супермаркет                   int64\n",
       "Магазин біля дому             int64\n",
       "dtype: object"
      ]
     },
     "execution_count": 119,
     "metadata": {},
     "output_type": "execute_result"
    }
   ],
   "source": [
    "df.dtypes"
   ]
  },
  {
   "cell_type": "code",
   "execution_count": 120,
   "id": "baa5a612",
   "metadata": {},
   "outputs": [],
   "source": [
    "#!pip install sklearn"
   ]
  },
  {
   "cell_type": "code",
   "execution_count": 121,
   "id": "9e0d4409",
   "metadata": {},
   "outputs": [],
   "source": [
    "# Taking care of missing data\n",
    "\n",
    "from sklearn.impute import SimpleImputer\n",
    "#numeric\n",
    "'''SimpleImputer - класс\n",
    "imputer_mean - экземпляр\n",
    "fit - метод класса'''\n",
    "\n",
    "imputer_mean = SimpleImputer(missing_values=np.nan, strategy='mean')\n",
    "df[['Средний чек']] = imputer_mean.fit_transform(df[['Средний чек']]).round()\n",
    "df[['Населення']] = imputer_mean.fit_transform(df[['Населення']]).round()\n",
    "df[['Середній дохід населення']] = imputer_mean.fit_transform(df[['Середній дохід населення']]).round()"
   ]
  },
  {
   "cell_type": "code",
   "execution_count": 122,
   "id": "01c0fea2",
   "metadata": {},
   "outputs": [
    {
     "data": {
      "text/plain": [
       "Торговельна площа, кв м     0\n",
       "Количество касс             0\n",
       "Тип                         0\n",
       "Рейтинг в гуглі             0\n",
       "Количество чеков            0\n",
       "Средний чек                 0\n",
       "Населення                   0\n",
       "Середній дохід населення    0\n",
       "Спеціалізоване мясо         0\n",
       "Спеціалізований сир         0\n",
       "Спеціалізована поб хімія    0\n",
       "Супермаркет                 0\n",
       "Магазин біля дому           0\n",
       "dtype: int64"
      ]
     },
     "execution_count": 122,
     "metadata": {},
     "output_type": "execute_result"
    }
   ],
   "source": [
    "df.isnull().sum()"
   ]
  },
  {
   "cell_type": "markdown",
   "id": "08afdcb9",
   "metadata": {},
   "source": [
    "# Outliers"
   ]
  },
  {
   "cell_type": "code",
   "execution_count": 123,
   "id": "f00fc735",
   "metadata": {},
   "outputs": [],
   "source": [
    "# Function Outliers\n",
    "def outliers(df):\n",
    "    num_var = list(df._get_numeric_data().columns)\n",
    "    for col_names in num_var:\n",
    "        df[col_names] = df[col_names].apply(lambda y: df[col_names].mean()-3*df[col_names].std() \n",
    "                            if y < df[col_names].mean()-3*df[col_names].std() else y)\n",
    "        df[col_names] = df[col_names].apply(lambda y: df[col_names].mean()+3*df[col_names].std() \n",
    "                            if y > df[col_names].mean()+3*df[col_names].std() else y)\n",
    "    return(df)"
   ]
  },
  {
   "cell_type": "code",
   "execution_count": 124,
   "id": "d0b170b0",
   "metadata": {},
   "outputs": [
    {
     "data": {
      "text/html": [
       "<div>\n",
       "<style scoped>\n",
       "    .dataframe tbody tr th:only-of-type {\n",
       "        vertical-align: middle;\n",
       "    }\n",
       "\n",
       "    .dataframe tbody tr th {\n",
       "        vertical-align: top;\n",
       "    }\n",
       "\n",
       "    .dataframe thead th {\n",
       "        text-align: right;\n",
       "    }\n",
       "</style>\n",
       "<table border=\"1\" class=\"dataframe\">\n",
       "  <thead>\n",
       "    <tr style=\"text-align: right;\">\n",
       "      <th></th>\n",
       "      <th>Торговельна площа, кв м</th>\n",
       "      <th>Количество касс</th>\n",
       "      <th>Рейтинг в гуглі</th>\n",
       "      <th>Количество чеков</th>\n",
       "      <th>Средний чек</th>\n",
       "      <th>Населення</th>\n",
       "      <th>Середній дохід населення</th>\n",
       "      <th>Спеціалізоване мясо</th>\n",
       "      <th>Спеціалізований сир</th>\n",
       "      <th>Спеціалізована поб хімія</th>\n",
       "      <th>Супермаркет</th>\n",
       "      <th>Магазин біля дому</th>\n",
       "    </tr>\n",
       "  </thead>\n",
       "  <tbody>\n",
       "    <tr>\n",
       "      <th>count</th>\n",
       "      <td>69.000000</td>\n",
       "      <td>69.000000</td>\n",
       "      <td>69.000000</td>\n",
       "      <td>69.000000</td>\n",
       "      <td>69.000000</td>\n",
       "      <td>69.000000</td>\n",
       "      <td>69.000000</td>\n",
       "      <td>69.000000</td>\n",
       "      <td>69.000000</td>\n",
       "      <td>69.000000</td>\n",
       "      <td>69.000000</td>\n",
       "      <td>69.000000</td>\n",
       "    </tr>\n",
       "    <tr>\n",
       "      <th>mean</th>\n",
       "      <td>34.371276</td>\n",
       "      <td>1.226190</td>\n",
       "      <td>3.810145</td>\n",
       "      <td>4084.097008</td>\n",
       "      <td>95.688373</td>\n",
       "      <td>295.956522</td>\n",
       "      <td>11518.876126</td>\n",
       "      <td>0.289855</td>\n",
       "      <td>0.231884</td>\n",
       "      <td>0.246377</td>\n",
       "      <td>0.202899</td>\n",
       "      <td>0.304348</td>\n",
       "    </tr>\n",
       "    <tr>\n",
       "      <th>std</th>\n",
       "      <td>19.893026</td>\n",
       "      <td>0.438122</td>\n",
       "      <td>0.695605</td>\n",
       "      <td>2213.334346</td>\n",
       "      <td>17.264082</td>\n",
       "      <td>310.467836</td>\n",
       "      <td>2015.165008</td>\n",
       "      <td>0.457019</td>\n",
       "      <td>0.425127</td>\n",
       "      <td>0.434057</td>\n",
       "      <td>0.405104</td>\n",
       "      <td>0.463502</td>\n",
       "    </tr>\n",
       "    <tr>\n",
       "      <th>min</th>\n",
       "      <td>4.000000</td>\n",
       "      <td>1.000000</td>\n",
       "      <td>1.800000</td>\n",
       "      <td>476.000000</td>\n",
       "      <td>65.000000</td>\n",
       "      <td>0.000000</td>\n",
       "      <td>4118.726364</td>\n",
       "      <td>0.000000</td>\n",
       "      <td>0.000000</td>\n",
       "      <td>0.000000</td>\n",
       "      <td>0.000000</td>\n",
       "      <td>0.000000</td>\n",
       "    </tr>\n",
       "    <tr>\n",
       "      <th>25%</th>\n",
       "      <td>22.000000</td>\n",
       "      <td>1.000000</td>\n",
       "      <td>3.000000</td>\n",
       "      <td>2344.000000</td>\n",
       "      <td>85.000000</td>\n",
       "      <td>0.000000</td>\n",
       "      <td>10570.000000</td>\n",
       "      <td>0.000000</td>\n",
       "      <td>0.000000</td>\n",
       "      <td>0.000000</td>\n",
       "      <td>0.000000</td>\n",
       "      <td>0.000000</td>\n",
       "    </tr>\n",
       "    <tr>\n",
       "      <th>50%</th>\n",
       "      <td>27.500000</td>\n",
       "      <td>1.000000</td>\n",
       "      <td>4.000000</td>\n",
       "      <td>3995.469796</td>\n",
       "      <td>95.000000</td>\n",
       "      <td>253.000000</td>\n",
       "      <td>11419.000000</td>\n",
       "      <td>0.000000</td>\n",
       "      <td>0.000000</td>\n",
       "      <td>0.000000</td>\n",
       "      <td>0.000000</td>\n",
       "      <td>0.000000</td>\n",
       "    </tr>\n",
       "    <tr>\n",
       "      <th>75%</th>\n",
       "      <td>41.000000</td>\n",
       "      <td>1.000000</td>\n",
       "      <td>4.300000</td>\n",
       "      <td>4826.000000</td>\n",
       "      <td>101.000000</td>\n",
       "      <td>545.000000</td>\n",
       "      <td>12880.000000</td>\n",
       "      <td>1.000000</td>\n",
       "      <td>0.000000</td>\n",
       "      <td>0.000000</td>\n",
       "      <td>0.000000</td>\n",
       "      <td>1.000000</td>\n",
       "    </tr>\n",
       "    <tr>\n",
       "      <th>max</th>\n",
       "      <td>99.985025</td>\n",
       "      <td>2.607131</td>\n",
       "      <td>5.000000</td>\n",
       "      <td>9687.000000</td>\n",
       "      <td>150.497709</td>\n",
       "      <td>963.000000</td>\n",
       "      <td>15470.000000</td>\n",
       "      <td>1.000000</td>\n",
       "      <td>1.000000</td>\n",
       "      <td>1.000000</td>\n",
       "      <td>1.000000</td>\n",
       "      <td>1.000000</td>\n",
       "    </tr>\n",
       "  </tbody>\n",
       "</table>\n",
       "</div>"
      ],
      "text/plain": [
       "       Торговельна площа, кв м  Количество касс  Рейтинг в гуглі  \\\n",
       "count                69.000000        69.000000        69.000000   \n",
       "mean                 34.371276         1.226190         3.810145   \n",
       "std                  19.893026         0.438122         0.695605   \n",
       "min                   4.000000         1.000000         1.800000   \n",
       "25%                  22.000000         1.000000         3.000000   \n",
       "50%                  27.500000         1.000000         4.000000   \n",
       "75%                  41.000000         1.000000         4.300000   \n",
       "max                  99.985025         2.607131         5.000000   \n",
       "\n",
       "       Количество чеков  Средний чек   Населення  Середній дохід населення  \\\n",
       "count         69.000000    69.000000   69.000000                 69.000000   \n",
       "mean        4084.097008    95.688373  295.956522              11518.876126   \n",
       "std         2213.334346    17.264082  310.467836               2015.165008   \n",
       "min          476.000000    65.000000    0.000000               4118.726364   \n",
       "25%         2344.000000    85.000000    0.000000              10570.000000   \n",
       "50%         3995.469796    95.000000  253.000000              11419.000000   \n",
       "75%         4826.000000   101.000000  545.000000              12880.000000   \n",
       "max         9687.000000   150.497709  963.000000              15470.000000   \n",
       "\n",
       "       Спеціалізоване мясо  Спеціалізований сир  Спеціалізована поб хімія  \\\n",
       "count            69.000000            69.000000                 69.000000   \n",
       "mean              0.289855             0.231884                  0.246377   \n",
       "std               0.457019             0.425127                  0.434057   \n",
       "min               0.000000             0.000000                  0.000000   \n",
       "25%               0.000000             0.000000                  0.000000   \n",
       "50%               0.000000             0.000000                  0.000000   \n",
       "75%               1.000000             0.000000                  0.000000   \n",
       "max               1.000000             1.000000                  1.000000   \n",
       "\n",
       "       Супермаркет  Магазин біля дому  \n",
       "count    69.000000          69.000000  \n",
       "mean      0.202899           0.304348  \n",
       "std       0.405104           0.463502  \n",
       "min       0.000000           0.000000  \n",
       "25%       0.000000           0.000000  \n",
       "50%       0.000000           0.000000  \n",
       "75%       0.000000           1.000000  \n",
       "max       1.000000           1.000000  "
      ]
     },
     "execution_count": 124,
     "metadata": {},
     "output_type": "execute_result"
    }
   ],
   "source": [
    "# Outliers\n",
    "df = outliers(df)\n",
    "df.describe()"
   ]
  },
  {
   "cell_type": "markdown",
   "id": "aeff1f78",
   "metadata": {},
   "source": [
    "# Encoding"
   ]
  },
  {
   "cell_type": "code",
   "execution_count": 125,
   "id": "de2a56f6",
   "metadata": {},
   "outputs": [
    {
     "data": {
      "text/html": [
       "<div>\n",
       "<style scoped>\n",
       "    .dataframe tbody tr th:only-of-type {\n",
       "        vertical-align: middle;\n",
       "    }\n",
       "\n",
       "    .dataframe tbody tr th {\n",
       "        vertical-align: top;\n",
       "    }\n",
       "\n",
       "    .dataframe thead th {\n",
       "        text-align: right;\n",
       "    }\n",
       "</style>\n",
       "<table border=\"1\" class=\"dataframe\">\n",
       "  <thead>\n",
       "    <tr style=\"text-align: right;\">\n",
       "      <th></th>\n",
       "      <th>Торговельна площа, кв м</th>\n",
       "      <th>Количество касс</th>\n",
       "      <th>Тип</th>\n",
       "      <th>Рейтинг в гуглі</th>\n",
       "      <th>Количество чеков</th>\n",
       "      <th>Средний чек</th>\n",
       "      <th>Населення</th>\n",
       "      <th>Середній дохід населення</th>\n",
       "      <th>Спеціалізоване мясо</th>\n",
       "      <th>Спеціалізований сир</th>\n",
       "      <th>Спеціалізована поб хімія</th>\n",
       "      <th>Супермаркет</th>\n",
       "      <th>Магазин біля дому</th>\n",
       "    </tr>\n",
       "  </thead>\n",
       "  <tbody>\n",
       "    <tr>\n",
       "      <th>0</th>\n",
       "      <td>9.000000</td>\n",
       "      <td>1.0</td>\n",
       "      <td>2</td>\n",
       "      <td>3.0</td>\n",
       "      <td>659.0</td>\n",
       "      <td>77.000000</td>\n",
       "      <td>108.0</td>\n",
       "      <td>14910.0</td>\n",
       "      <td>1</td>\n",
       "      <td>1</td>\n",
       "      <td>0</td>\n",
       "      <td>1</td>\n",
       "      <td>1</td>\n",
       "    </tr>\n",
       "    <tr>\n",
       "      <th>1</th>\n",
       "      <td>22.000000</td>\n",
       "      <td>1.0</td>\n",
       "      <td>2</td>\n",
       "      <td>4.1</td>\n",
       "      <td>1518.0</td>\n",
       "      <td>85.000000</td>\n",
       "      <td>750.0</td>\n",
       "      <td>9030.0</td>\n",
       "      <td>0</td>\n",
       "      <td>0</td>\n",
       "      <td>0</td>\n",
       "      <td>1</td>\n",
       "      <td>1</td>\n",
       "    </tr>\n",
       "    <tr>\n",
       "      <th>2</th>\n",
       "      <td>13.000000</td>\n",
       "      <td>1.0</td>\n",
       "      <td>2</td>\n",
       "      <td>3.0</td>\n",
       "      <td>476.0</td>\n",
       "      <td>112.000000</td>\n",
       "      <td>0.0</td>\n",
       "      <td>9030.0</td>\n",
       "      <td>0</td>\n",
       "      <td>0</td>\n",
       "      <td>0</td>\n",
       "      <td>0</td>\n",
       "      <td>0</td>\n",
       "    </tr>\n",
       "    <tr>\n",
       "      <th>3</th>\n",
       "      <td>18.000000</td>\n",
       "      <td>1.0</td>\n",
       "      <td>2</td>\n",
       "      <td>3.0</td>\n",
       "      <td>1310.0</td>\n",
       "      <td>120.000000</td>\n",
       "      <td>0.0</td>\n",
       "      <td>13930.0</td>\n",
       "      <td>1</td>\n",
       "      <td>0</td>\n",
       "      <td>0</td>\n",
       "      <td>1</td>\n",
       "      <td>1</td>\n",
       "    </tr>\n",
       "    <tr>\n",
       "      <th>4</th>\n",
       "      <td>25.000000</td>\n",
       "      <td>1.0</td>\n",
       "      <td>1</td>\n",
       "      <td>4.0</td>\n",
       "      <td>2029.0</td>\n",
       "      <td>95.000000</td>\n",
       "      <td>0.0</td>\n",
       "      <td>14560.0</td>\n",
       "      <td>0</td>\n",
       "      <td>0</td>\n",
       "      <td>0</td>\n",
       "      <td>0</td>\n",
       "      <td>0</td>\n",
       "    </tr>\n",
       "    <tr>\n",
       "      <th>...</th>\n",
       "      <td>...</td>\n",
       "      <td>...</td>\n",
       "      <td>...</td>\n",
       "      <td>...</td>\n",
       "      <td>...</td>\n",
       "      <td>...</td>\n",
       "      <td>...</td>\n",
       "      <td>...</td>\n",
       "      <td>...</td>\n",
       "      <td>...</td>\n",
       "      <td>...</td>\n",
       "      <td>...</td>\n",
       "      <td>...</td>\n",
       "    </tr>\n",
       "    <tr>\n",
       "      <th>64</th>\n",
       "      <td>40.780000</td>\n",
       "      <td>2.0</td>\n",
       "      <td>1</td>\n",
       "      <td>4.0</td>\n",
       "      <td>6884.0</td>\n",
       "      <td>107.000000</td>\n",
       "      <td>963.0</td>\n",
       "      <td>9800.0</td>\n",
       "      <td>0</td>\n",
       "      <td>0</td>\n",
       "      <td>1</td>\n",
       "      <td>0</td>\n",
       "      <td>0</td>\n",
       "    </tr>\n",
       "    <tr>\n",
       "      <th>65</th>\n",
       "      <td>21.500000</td>\n",
       "      <td>1.0</td>\n",
       "      <td>1</td>\n",
       "      <td>2.3</td>\n",
       "      <td>4721.0</td>\n",
       "      <td>89.000000</td>\n",
       "      <td>0.0</td>\n",
       "      <td>12600.0</td>\n",
       "      <td>1</td>\n",
       "      <td>1</td>\n",
       "      <td>1</td>\n",
       "      <td>0</td>\n",
       "      <td>0</td>\n",
       "    </tr>\n",
       "    <tr>\n",
       "      <th>66</th>\n",
       "      <td>99.985025</td>\n",
       "      <td>1.0</td>\n",
       "      <td>2</td>\n",
       "      <td>3.0</td>\n",
       "      <td>3286.0</td>\n",
       "      <td>106.000000</td>\n",
       "      <td>315.0</td>\n",
       "      <td>10570.0</td>\n",
       "      <td>0</td>\n",
       "      <td>0</td>\n",
       "      <td>0</td>\n",
       "      <td>0</td>\n",
       "      <td>1</td>\n",
       "    </tr>\n",
       "    <tr>\n",
       "      <th>67</th>\n",
       "      <td>34.800000</td>\n",
       "      <td>2.0</td>\n",
       "      <td>1</td>\n",
       "      <td>4.3</td>\n",
       "      <td>3963.0</td>\n",
       "      <td>150.497709</td>\n",
       "      <td>0.0</td>\n",
       "      <td>12460.0</td>\n",
       "      <td>1</td>\n",
       "      <td>1</td>\n",
       "      <td>0</td>\n",
       "      <td>0</td>\n",
       "      <td>0</td>\n",
       "    </tr>\n",
       "    <tr>\n",
       "      <th>68</th>\n",
       "      <td>22.000000</td>\n",
       "      <td>1.0</td>\n",
       "      <td>1</td>\n",
       "      <td>4.9</td>\n",
       "      <td>4200.0</td>\n",
       "      <td>102.000000</td>\n",
       "      <td>678.0</td>\n",
       "      <td>10430.0</td>\n",
       "      <td>1</td>\n",
       "      <td>1</td>\n",
       "      <td>0</td>\n",
       "      <td>0</td>\n",
       "      <td>0</td>\n",
       "    </tr>\n",
       "  </tbody>\n",
       "</table>\n",
       "<p>69 rows × 13 columns</p>\n",
       "</div>"
      ],
      "text/plain": [
       "    Торговельна площа, кв м  Количество касс  Тип  Рейтинг в гуглі  \\\n",
       "0                  9.000000              1.0    2              3.0   \n",
       "1                 22.000000              1.0    2              4.1   \n",
       "2                 13.000000              1.0    2              3.0   \n",
       "3                 18.000000              1.0    2              3.0   \n",
       "4                 25.000000              1.0    1              4.0   \n",
       "..                      ...              ...  ...              ...   \n",
       "64                40.780000              2.0    1              4.0   \n",
       "65                21.500000              1.0    1              2.3   \n",
       "66                99.985025              1.0    2              3.0   \n",
       "67                34.800000              2.0    1              4.3   \n",
       "68                22.000000              1.0    1              4.9   \n",
       "\n",
       "    Количество чеков  Средний чек  Населення  Середній дохід населення  \\\n",
       "0              659.0    77.000000      108.0                   14910.0   \n",
       "1             1518.0    85.000000      750.0                    9030.0   \n",
       "2              476.0   112.000000        0.0                    9030.0   \n",
       "3             1310.0   120.000000        0.0                   13930.0   \n",
       "4             2029.0    95.000000        0.0                   14560.0   \n",
       "..               ...          ...        ...                       ...   \n",
       "64            6884.0   107.000000      963.0                    9800.0   \n",
       "65            4721.0    89.000000        0.0                   12600.0   \n",
       "66            3286.0   106.000000      315.0                   10570.0   \n",
       "67            3963.0   150.497709        0.0                   12460.0   \n",
       "68            4200.0   102.000000      678.0                   10430.0   \n",
       "\n",
       "    Спеціалізоване мясо  Спеціалізований сир  Спеціалізована поб хімія  \\\n",
       "0                     1                    1                         0   \n",
       "1                     0                    0                         0   \n",
       "2                     0                    0                         0   \n",
       "3                     1                    0                         0   \n",
       "4                     0                    0                         0   \n",
       "..                  ...                  ...                       ...   \n",
       "64                    0                    0                         1   \n",
       "65                    1                    1                         1   \n",
       "66                    0                    0                         0   \n",
       "67                    1                    1                         0   \n",
       "68                    1                    1                         0   \n",
       "\n",
       "    Супермаркет  Магазин біля дому  \n",
       "0             1                  1  \n",
       "1             1                  1  \n",
       "2             0                  0  \n",
       "3             1                  1  \n",
       "4             0                  0  \n",
       "..          ...                ...  \n",
       "64            0                  0  \n",
       "65            0                  0  \n",
       "66            0                  1  \n",
       "67            0                  0  \n",
       "68            0                  0  \n",
       "\n",
       "[69 rows x 13 columns]"
      ]
     },
     "execution_count": 125,
     "metadata": {},
     "output_type": "execute_result"
    }
   ],
   "source": [
    "from sklearn import preprocessing\n",
    "df['Тип'] = preprocessing.LabelEncoder().fit_transform(df['Тип'])\n",
    "df\n",
    "# 1 - новый, 2 - старый. "
   ]
  },
  {
   "cell_type": "markdown",
   "id": "5d3ccb51",
   "metadata": {},
   "source": [
    "# Correlations "
   ]
  },
  {
   "cell_type": "code",
   "execution_count": 126,
   "id": "f9785820",
   "metadata": {},
   "outputs": [
    {
     "data": {
      "image/png": "[encoded data removed]",
      "text/plain": [
       "<Figure size 864x648 with 2 Axes>"
      ]
     },
     "metadata": {
      "needs_background": "light"
     },
     "output_type": "display_data"
    }
   ],
   "source": [
    "# Cheking correlations\n",
    "import seaborn as sns\n",
    "corrmat = df.corr()\n",
    "f, ax = plt.subplots(figsize=(12, 9))\n",
    "sns.heatmap(corrmat, annot=True)\n",
    "plt.show()"
   ]
  },
  {
   "cell_type": "markdown",
   "id": "70eb0836",
   "metadata": {},
   "source": [
    "# Splitting"
   ]
  },
  {
   "cell_type": "code",
   "execution_count": 127,
   "id": "e5513044",
   "metadata": {},
   "outputs": [],
   "source": [
    "# Splitting the dataset into the Training set and Test set\n",
    "f = ['Торговельна площа, кв м','Количество касс','Тип','Рейтинг в гуглі','Средний чек','Населення','Середній дохід населення','Спеціалізоване мясо','Спеціалізований сир','Спеціалізована поб хімія','Супермаркет','Магазин біля дому']\n",
    "X = df[f]\n",
    "y = df['Количество чеков']\n",
    "from sklearn.model_selection import train_test_split\n",
    "X_train, X_test, y_train, y_test = train_test_split(X, y, test_size=0.2, random_state=10)"
   ]
  },
  {
   "cell_type": "markdown",
   "id": "a262049c",
   "metadata": {},
   "source": [
    "# Simple Linear Regression "
   ]
  },
  {
   "cell_type": "code",
   "execution_count": 128,
   "id": "a82accbf",
   "metadata": {},
   "outputs": [
    {
     "data": {
      "text/plain": [
       "(array([3326.69556884]), 71.49258437500157)"
      ]
     },
     "execution_count": 128,
     "metadata": {},
     "output_type": "execute_result"
    }
   ],
   "source": [
    "# Fitting Simple Linear Regression to the Training set \n",
    "f1 = ['Количество касс']\n",
    "\n",
    "from sklearn.linear_model import LinearRegression\n",
    "sr = LinearRegression().fit(X_train[f1], y_train)\n",
    "\n",
    "# Getting parameters\n",
    "sr.coef_, sr.intercept_"
   ]
  },
  {
   "cell_type": "code",
   "execution_count": 129,
   "id": "3ab78a38",
   "metadata": {},
   "outputs": [
    {
     "data": {
      "text/plain": [
       "0.451"
      ]
     },
     "execution_count": 129,
     "metadata": {},
     "output_type": "execute_result"
    }
   ],
   "source": [
    "# Predicting the Test set results\n",
    "y_pred = sr.predict(X_test[f1])\n",
    "\n",
    "# Coefficient of determination R^2\n",
    "sr.score(X_train[f1], y_train).round(3)"
   ]
  },
  {
   "cell_type": "code",
   "execution_count": 130,
   "id": "6f55be55",
   "metadata": {},
   "outputs": [
    {
     "data": {
      "text/plain": [
       "(1656.87, 1469.27)"
      ]
     },
     "execution_count": 130,
     "metadata": {},
     "output_type": "execute_result"
    }
   ],
   "source": [
    "# Mean squared error\n",
    "from sklearn.metrics import mean_squared_error\n",
    "mean_squared_error(y_train, sr.predict(X_train[f1]), squared=False).round(2), mean_squared_error(y_test, y_pred, squared=False).round(2)"
   ]
  },
  {
   "cell_type": "code",
   "execution_count": 131,
   "id": "39c2ddc7",
   "metadata": {},
   "outputs": [
    {
     "data": {
      "image/png": "[encoded data removed]",
      "text/plain": [
       "<Figure size 432x288 with 1 Axes>"
      ]
     },
     "metadata": {
      "needs_background": "light"
     },
     "output_type": "display_data"
    }
   ],
   "source": [
    "# Visualising the Test set results\n",
    "plt.scatter(X_test['Количество касс'], y_test, color = 'red')\n",
    "plt.plot(X_test['Количество касс'], sr.predict(X_test[f1]), 'bo')\n",
    "plt.title('Количество чеков vs Количество касс (Test set)')\n",
    "plt.xlabel('Количество касс')\n",
    "plt.ylabel('Количество чеков')\n",
    "plt.show()"
   ]
  },
  {
   "cell_type": "markdown",
   "id": "b88f57ef",
   "metadata": {},
   "source": [
    "# Multiple Linear Regression"
   ]
  },
  {
   "cell_type": "code",
   "execution_count": 132,
   "id": "a9c68f4f",
   "metadata": {},
   "outputs": [],
   "source": [
    "#!pip install statsmodels"
   ]
  },
  {
   "cell_type": "code",
   "execution_count": 133,
   "id": "58134d86",
   "metadata": {},
   "outputs": [
    {
     "data": {
      "text/plain": [
       "0.638"
      ]
     },
     "execution_count": 133,
     "metadata": {},
     "output_type": "execute_result"
    }
   ],
   "source": [
    "# Fitting Multiple Regression\n",
    "mr = LinearRegression().fit(X_train, y_train)\n",
    "\n",
    "# Coefficient of determination R^2\n",
    "mr.score(X_train, y_train).round(3)"
   ]
  },
  {
   "cell_type": "code",
   "execution_count": 134,
   "id": "cbcd09e8",
   "metadata": {},
   "outputs": [
    {
     "data": {
      "image/png": "[encoded data removed]",
      "text/plain": [
       "<Figure size 432x288 with 1 Axes>"
      ]
     },
     "metadata": {
      "needs_background": "light"
     },
     "output_type": "display_data"
    }
   ],
   "source": [
    "# Visualising the Test set results\n",
    "plt.scatter(X_test['Количество касс'], y_test, color = 'red')\n",
    "plt.plot(X_test['Количество касс'], mr.predict(X_test), 'bo')\n",
    "plt.title('Количество чеков vs Количество касс (Test set)')\n",
    "plt.xlabel('Количество касс')\n",
    "plt.ylabel('Количество чеков')\n",
    "plt.show()"
   ]
  },
  {
   "cell_type": "code",
   "execution_count": 135,
   "id": "2a021d8b",
   "metadata": {},
   "outputs": [
    {
     "data": {
      "text/html": [
       "<table class=\"simpletable\">\n",
       "<caption>OLS Regression Results</caption>\n",
       "<tr>\n",
       "  <th>Dep. Variable:</th>    <td>Количество чеков</td> <th>  R-squared:         </th> <td>   0.638</td>\n",
       "</tr>\n",
       "<tr>\n",
       "  <th>Model:</th>                   <td>OLS</td>       <th>  Adj. R-squared:    </th> <td>   0.534</td>\n",
       "</tr>\n",
       "<tr>\n",
       "  <th>Method:</th>             <td>Least Squares</td>  <th>  F-statistic:       </th> <td>   6.163</td>\n",
       "</tr>\n",
       "<tr>\n",
       "  <th>Date:</th>             <td>Thu, 21 Oct 2021</td> <th>  Prob (F-statistic):</th> <td>4.34e-06</td>\n",
       "</tr>\n",
       "<tr>\n",
       "  <th>Time:</th>                 <td>21:24:21</td>     <th>  Log-Likelihood:    </th> <td> -474.31</td>\n",
       "</tr>\n",
       "<tr>\n",
       "  <th>No. Observations:</th>      <td>    55</td>      <th>  AIC:               </th> <td>   974.6</td>\n",
       "</tr>\n",
       "<tr>\n",
       "  <th>Df Residuals:</th>          <td>    42</td>      <th>  BIC:               </th> <td>   1001.</td>\n",
       "</tr>\n",
       "<tr>\n",
       "  <th>Df Model:</th>              <td>    12</td>      <th>                     </th>     <td> </td>   \n",
       "</tr>\n",
       "<tr>\n",
       "  <th>Covariance Type:</th>      <td>nonrobust</td>    <th>                     </th>     <td> </td>   \n",
       "</tr>\n",
       "</table>\n",
       "<table class=\"simpletable\">\n",
       "<tr>\n",
       "              <td></td>                <th>coef</th>     <th>std err</th>      <th>t</th>      <th>P>|t|</th>  <th>[0.025</th>    <th>0.975]</th>  \n",
       "</tr>\n",
       "<tr>\n",
       "  <th>const</th>                    <td>  485.9812</td> <td> 2762.132</td> <td>    0.176</td> <td> 0.861</td> <td>-5088.226</td> <td> 6060.189</td>\n",
       "</tr>\n",
       "<tr>\n",
       "  <th>Торговельна площа, кв м</th>  <td>   14.6583</td> <td>   15.827</td> <td>    0.926</td> <td> 0.360</td> <td>  -17.282</td> <td>   46.599</td>\n",
       "</tr>\n",
       "<tr>\n",
       "  <th>Количество касс</th>          <td> 2872.5101</td> <td>  669.199</td> <td>    4.292</td> <td> 0.000</td> <td> 1522.012</td> <td> 4223.008</td>\n",
       "</tr>\n",
       "<tr>\n",
       "  <th>Тип</th>                      <td>-1305.1545</td> <td>  554.488</td> <td>   -2.354</td> <td> 0.023</td> <td>-2424.157</td> <td> -186.153</td>\n",
       "</tr>\n",
       "<tr>\n",
       "  <th>Рейтинг в гуглі</th>          <td> -245.5495</td> <td>  354.770</td> <td>   -0.692</td> <td> 0.493</td> <td> -961.504</td> <td>  470.405</td>\n",
       "</tr>\n",
       "<tr>\n",
       "  <th>Средний чек</th>              <td>   22.6851</td> <td>   16.594</td> <td>    1.367</td> <td> 0.179</td> <td>  -10.803</td> <td>   56.173</td>\n",
       "</tr>\n",
       "<tr>\n",
       "  <th>Населення</th>                <td>    0.3287</td> <td>    0.818</td> <td>    0.402</td> <td> 0.690</td> <td>   -1.323</td> <td>    1.980</td>\n",
       "</tr>\n",
       "<tr>\n",
       "  <th>Середній дохід населення</th> <td>   -0.0130</td> <td>    0.112</td> <td>   -0.116</td> <td> 0.908</td> <td>   -0.239</td> <td>    0.213</td>\n",
       "</tr>\n",
       "<tr>\n",
       "  <th>Спеціалізоване мясо</th>      <td> -707.7483</td> <td>  629.549</td> <td>   -1.124</td> <td> 0.267</td> <td>-1978.230</td> <td>  562.733</td>\n",
       "</tr>\n",
       "<tr>\n",
       "  <th>Спеціалізований сир</th>      <td>  851.0045</td> <td>  637.163</td> <td>    1.336</td> <td> 0.189</td> <td> -434.843</td> <td> 2136.852</td>\n",
       "</tr>\n",
       "<tr>\n",
       "  <th>Спеціалізована поб хімія</th> <td>  -35.1076</td> <td>  515.581</td> <td>   -0.068</td> <td> 0.946</td> <td>-1075.593</td> <td> 1005.377</td>\n",
       "</tr>\n",
       "<tr>\n",
       "  <th>Супермаркет</th>              <td> -256.3956</td> <td>  552.762</td> <td>   -0.464</td> <td> 0.645</td> <td>-1371.915</td> <td>  859.124</td>\n",
       "</tr>\n",
       "<tr>\n",
       "  <th>Магазин біля дому</th>        <td>  401.5048</td> <td>  557.570</td> <td>    0.720</td> <td> 0.475</td> <td> -723.717</td> <td> 1526.727</td>\n",
       "</tr>\n",
       "</table>\n",
       "<table class=\"simpletable\">\n",
       "<tr>\n",
       "  <th>Omnibus:</th>       <td> 0.918</td> <th>  Durbin-Watson:     </th> <td>   2.101</td>\n",
       "</tr>\n",
       "<tr>\n",
       "  <th>Prob(Omnibus):</th> <td> 0.632</td> <th>  Jarque-Bera (JB):  </th> <td>   0.418</td>\n",
       "</tr>\n",
       "<tr>\n",
       "  <th>Skew:</th>          <td>-0.189</td> <th>  Prob(JB):          </th> <td>   0.812</td>\n",
       "</tr>\n",
       "<tr>\n",
       "  <th>Kurtosis:</th>      <td> 3.197</td> <th>  Cond. No.          </th> <td>1.57e+05</td>\n",
       "</tr>\n",
       "</table><br/><br/>Notes:<br/>[1] Standard Errors assume that the covariance matrix of the errors is correctly specified.<br/>[2] The condition number is large, 1.57e+05. This might indicate that there are<br/>strong multicollinearity or other numerical problems."
      ],
      "text/plain": [
       "<class 'statsmodels.iolib.summary.Summary'>\n",
       "\"\"\"\n",
       "                            OLS Regression Results                            \n",
       "==============================================================================\n",
       "Dep. Variable:       Количество чеков   R-squared:                       0.638\n",
       "Model:                            OLS   Adj. R-squared:                  0.534\n",
       "Method:                 Least Squares   F-statistic:                     6.163\n",
       "Date:                Thu, 21 Oct 2021   Prob (F-statistic):           4.34e-06\n",
       "Time:                        21:24:21   Log-Likelihood:                -474.31\n",
       "No. Observations:                  55   AIC:                             974.6\n",
       "Df Residuals:                      42   BIC:                             1001.\n",
       "Df Model:                          12                                         \n",
       "Covariance Type:            nonrobust                                         \n",
       "============================================================================================\n",
       "                               coef    std err          t      P>|t|      [0.025      0.975]\n",
       "--------------------------------------------------------------------------------------------\n",
       "const                      485.9812   2762.132      0.176      0.861   -5088.226    6060.189\n",
       "Торговельна площа, кв м     14.6583     15.827      0.926      0.360     -17.282      46.599\n",
       "Количество касс           2872.5101    669.199      4.292      0.000    1522.012    4223.008\n",
       "Тип                      -1305.1545    554.488     -2.354      0.023   -2424.157    -186.153\n",
       "Рейтинг в гуглі           -245.5495    354.770     -0.692      0.493    -961.504     470.405\n",
       "Средний чек                 22.6851     16.594      1.367      0.179     -10.803      56.173\n",
       "Населення                    0.3287      0.818      0.402      0.690      -1.323       1.980\n",
       "Середній дохід населення    -0.0130      0.112     -0.116      0.908      -0.239       0.213\n",
       "Спеціалізоване мясо       -707.7483    629.549     -1.124      0.267   -1978.230     562.733\n",
       "Спеціалізований сир        851.0045    637.163      1.336      0.189    -434.843    2136.852\n",
       "Спеціалізована поб хімія   -35.1076    515.581     -0.068      0.946   -1075.593    1005.377\n",
       "Супермаркет               -256.3956    552.762     -0.464      0.645   -1371.915     859.124\n",
       "Магазин біля дому          401.5048    557.570      0.720      0.475    -723.717    1526.727\n",
       "==============================================================================\n",
       "Omnibus:                        0.918   Durbin-Watson:                   2.101\n",
       "Prob(Omnibus):                  0.632   Jarque-Bera (JB):                0.418\n",
       "Skew:                          -0.189   Prob(JB):                        0.812\n",
       "Kurtosis:                       3.197   Cond. No.                     1.57e+05\n",
       "==============================================================================\n",
       "\n",
       "Notes:\n",
       "[1] Standard Errors assume that the covariance matrix of the errors is correctly specified.\n",
       "[2] The condition number is large, 1.57e+05. This might indicate that there are\n",
       "strong multicollinearity or other numerical problems.\n",
       "\"\"\""
      ]
     },
     "execution_count": 135,
     "metadata": {},
     "output_type": "execute_result"
    }
   ],
   "source": [
    "# Checking p-values\n",
    "import statsmodels.api as sm\n",
    "X1 = sm.add_constant(X_train)\n",
    "mr1 = sm.OLS(y_train, X1).fit()\n",
    "#mr1.pvalues\n",
    "mr1.summary()"
   ]
  },
  {
   "cell_type": "markdown",
   "id": "c85e7849",
   "metadata": {},
   "source": [
    "# Recursive feature elimination"
   ]
  },
  {
   "cell_type": "code",
   "execution_count": 136,
   "id": "2fa446ac",
   "metadata": {},
   "outputs": [],
   "source": [
    "# Feature ranking with recursive feature elimination\n",
    "from sklearn.feature_selection import RFE\n",
    "n_features = X.shape[1]\n",
    "estimator = LinearRegression()\n",
    "selector = RFE(estimator, n_features_to_select = 3)\n",
    "selector = selector.fit(X, y)\n",
    "\n",
    "# Selected Features\n",
    "selected_columns=[]\n",
    "for i in range(n_features):\n",
    "    if selector.support_[i] == True:\n",
    "        selected_columns.append(i)\n",
    "        \n",
    "f_lm = []\n",
    "for column in selected_columns:\n",
    "    f_lm.append(X.columns[column])"
   ]
  },
  {
   "cell_type": "code",
   "execution_count": 137,
   "id": "fbc26b5a",
   "metadata": {},
   "outputs": [
    {
     "data": {
      "text/plain": [
       "(array([ 3288.17574132, -1520.16721778,  -527.67352619]), 2180.1662080261904)"
      ]
     },
     "execution_count": 137,
     "metadata": {},
     "output_type": "execute_result"
    }
   ],
   "source": [
    "# Fitting Optimized Multiple Regression\n",
    "mr_rfe = LinearRegression().fit(X_train[f_lm], y_train)\n",
    "\n",
    "# Getting parameters\n",
    "mr_rfe.coef_, mr_rfe.intercept_"
   ]
  },
  {
   "cell_type": "code",
   "execution_count": 138,
   "id": "5431dfac",
   "metadata": {},
   "outputs": [
    {
     "data": {
      "text/plain": [
       "0.561"
      ]
     },
     "execution_count": 138,
     "metadata": {},
     "output_type": "execute_result"
    }
   ],
   "source": [
    "# Predicting the Test set results\n",
    "y_pred = mr_rfe.predict(X_test[f_lm])\n",
    "\n",
    "# Coefficient of determination R^2\n",
    "mr_rfe.score(X_train[f_lm], y_train).round(3)"
   ]
  },
  {
   "cell_type": "code",
   "execution_count": 139,
   "id": "01307149",
   "metadata": {},
   "outputs": [
    {
     "data": {
      "text/plain": [
       "(1482.18, 1006.56)"
      ]
     },
     "execution_count": 139,
     "metadata": {},
     "output_type": "execute_result"
    }
   ],
   "source": [
    "# Mean squared error\n",
    "mean_squared_error(y_train, mr_rfe.predict(X_train[f_lm]), squared=False).round(2), mean_squared_error(y_test, y_pred, squared=False).round(2)"
   ]
  },
  {
   "cell_type": "code",
   "execution_count": 140,
   "id": "7629f98c",
   "metadata": {},
   "outputs": [
    {
     "data": {
      "image/png": "[encoded data removed]",
      "text/plain": [
       "<Figure size 432x288 with 1 Axes>"
      ]
     },
     "metadata": {
      "needs_background": "light"
     },
     "output_type": "display_data"
    }
   ],
   "source": [
    "# Visualising the Test set results\n",
    "plt.scatter(X_test['Количество касс'], y_test, color = 'red')\n",
    "plt.plot(X_test['Количество касс'], mr_rfe.predict(X_test[f_lm]), 'bo')\n",
    "plt.title('Количество чеков vs Количество касс (Test set)')\n",
    "plt.xlabel('Количество касс')\n",
    "plt.ylabel('Количество чеков')\n",
    "plt.show()"
   ]
  },
  {
   "cell_type": "markdown",
   "id": "47575c44",
   "metadata": {},
   "source": [
    "# Backward Elimination"
   ]
  },
  {
   "cell_type": "code",
   "execution_count": 141,
   "id": "28f0dd05",
   "metadata": {},
   "outputs": [],
   "source": [
    "# Backward Elimination with p-values\n",
    "def backwardElimination(x, y, sl):\n",
    "    x = sm.add_constant(x)\n",
    "    numVars = x.shape[1]\n",
    "    for i in range(0, numVars):\n",
    "        regressor_OLS = sm.OLS(y, x).fit()\n",
    "        maxVar = max(regressor_OLS.pvalues)\n",
    "        if maxVar > sl:\n",
    "            for j in range(0, numVars - i):\n",
    "                if (regressor_OLS.pvalues[j] == maxVar):\n",
    "                    x = x.drop(x.columns[j], axis=1)\n",
    "    regressor_OLS.summary()\n",
    "    return x\n",
    "\n",
    "SL = 0.0001\n",
    "X_Modeled = backwardElimination(X_train, y_train, SL)"
   ]
  },
  {
   "cell_type": "code",
   "execution_count": 142,
   "id": "610833f8",
   "metadata": {},
   "outputs": [
    {
     "data": {
      "text/plain": [
       "0.451"
      ]
     },
     "execution_count": 142,
     "metadata": {},
     "output_type": "execute_result"
    }
   ],
   "source": [
    "# Fitting Optimized Multiple Regression\n",
    "mr_be = LinearRegression().fit(X_Modeled, y_train)\n",
    "\n",
    "# Coefficient of determination R^2\n",
    "mr_be.score(X_Modeled, y_train).round(3)"
   ]
  },
  {
   "cell_type": "markdown",
   "id": "4ef3ef2d",
   "metadata": {},
   "source": [
    "# Polynomial Regression"
   ]
  },
  {
   "cell_type": "code",
   "execution_count": 143,
   "id": "cbd73355",
   "metadata": {},
   "outputs": [
    {
     "data": {
      "text/plain": [
       "(array([-7.73276349e-05, -8.05425817e+02,  1.59175116e+02,  2.98761134e+02,\n",
       "        -2.59678309e+02,  3.38113959e+02, -2.82126875e+01,  1.22674552e+01,\n",
       "        -4.69566040e+01, -5.65602522e+01,  1.07545032e+02, -2.09467103e+02,\n",
       "         2.81082809e+01, -5.28311139e-02, -1.36427970e+01,  2.88009829e+02,\n",
       "         1.59943408e+02,  6.06654945e-01,  4.99546632e-02, -1.00719663e-02,\n",
       "         2.31042211e+02, -1.05968854e+02,  2.34592787e+01, -7.50457280e+01,\n",
       "        -9.96374684e+01,  1.91997720e+02, -2.12636504e+02, -4.06779509e+02,\n",
       "         1.09779921e+01,  2.61679780e+00,  2.35629846e-01,  1.65288629e+02,\n",
       "        -2.88060614e+02,  1.91853920e+02,  5.63060505e+02, -1.36827665e+03,\n",
       "         1.00787230e+03,  1.11028980e+02,  2.09075531e+01,  5.61159936e+00,\n",
       "        -1.19587248e+00, -2.31123460e+02,  2.33543168e+02,  1.03599195e+02,\n",
       "        -1.35789466e+03, -2.93857537e+02, -4.79165312e+01,  4.85056478e+01,\n",
       "         2.45301623e+00, -6.84187214e-01, -3.93704512e+02, -9.31092774e+02,\n",
       "        -8.32497482e+02, -1.04768168e+03,  2.94969733e+02,  8.22721704e-02,\n",
       "         9.67013474e-02, -5.16085722e-02, -8.13952203e+01,  1.33110303e+02,\n",
       "        -5.73479341e+01,  1.34684346e+02, -2.50647461e+01, -9.31928790e-04,\n",
       "         1.22383756e-04,  3.77500361e+00,  1.96756702e+00, -1.73276057e+00,\n",
       "        -1.72223187e+00, -4.88286089e+00, -1.36370753e-04, -1.72526067e-01,\n",
       "        -2.74660701e-01,  5.92438580e-01, -1.36887635e-01,  7.56364016e-01,\n",
       "        -4.69566040e+01, -1.22705000e+03,  3.92706022e+02, -1.32540842e+02,\n",
       "        -6.84160043e+02, -5.65602522e+01,  7.14094249e+01, -9.60862901e+02,\n",
       "         7.70749577e+02,  1.07545032e+02, -1.23856055e+02, -3.18283792e+02,\n",
       "        -2.09467104e+02, -1.47683960e+03,  2.81082810e+01]),\n",
       " -75703.10437024014)"
      ]
     },
     "execution_count": 143,
     "metadata": {},
     "output_type": "execute_result"
    }
   ],
   "source": [
    "# Fitting Polynomial Regression to the dataset\n",
    "from sklearn.preprocessing import PolynomialFeatures\n",
    "X_train_p = PolynomialFeatures().fit_transform(X_train)\n",
    "X_test_p = PolynomialFeatures().fit_transform(X_test)\n",
    "\n",
    "pr = LinearRegression().fit(X_train_p, y_train)\n",
    "\n",
    "# Getting parameters\n",
    "pr.coef_, pr.intercept_"
   ]
  },
  {
   "cell_type": "code",
   "execution_count": 144,
   "id": "a50857fe",
   "metadata": {},
   "outputs": [
    {
     "data": {
      "text/plain": [
       "1.0"
      ]
     },
     "execution_count": 144,
     "metadata": {},
     "output_type": "execute_result"
    }
   ],
   "source": [
    "# Predicting the Test set results\n",
    "y_pred = pr.predict(X_test_p)\n",
    "\n",
    "# Coefficient of determination R^2\n",
    "pr.score(X_train_p, y_train).round(3)"
   ]
  },
  {
   "cell_type": "code",
   "execution_count": 145,
   "id": "731395cf",
   "metadata": {},
   "outputs": [
    {
     "data": {
      "text/plain": [
       "(0.0, 3775.12)"
      ]
     },
     "execution_count": 145,
     "metadata": {},
     "output_type": "execute_result"
    }
   ],
   "source": [
    "# Mean squared error\n",
    "mean_squared_error(y_train, pr.predict(X_train_p), squared=False).round(2), mean_squared_error(y_test, y_pred, squared=False).round(2)"
   ]
  },
  {
   "cell_type": "code",
   "execution_count": 146,
   "id": "791589a5",
   "metadata": {},
   "outputs": [
    {
     "data": {
      "image/png": "[encoded data removed]",
      "text/plain": [
       "<Figure size 432x288 with 1 Axes>"
      ]
     },
     "metadata": {
      "needs_background": "light"
     },
     "output_type": "display_data"
    }
   ],
   "source": [
    "# Visualising the Test set results\n",
    "plt.scatter(X_test['Количество касс'], y_test, color = 'red')\n",
    "plt.plot(X_test['Количество касс'], pr.predict(X_test_p), 'bo')\n",
    "plt.title('Количество чеков vs Количество касс (Test set)')\n",
    "plt.xlabel('Количество касс')\n",
    "plt.ylabel('Количество чеков')\n",
    "plt.show()"
   ]
  },
  {
   "cell_type": "code",
   "execution_count": null,
   "id": "2712ff6c",
   "metadata": {},
   "outputs": [],
   "source": []
  }
 ],
 "metadata": {
  "kernelspec": {
   "display_name": "Python 3",
   "language": "python",
   "name": "python3"
  },
  "language_info": {
   "codemirror_mode": {
    "name": "ipython",
    "version": 3
   },
   "file_extension": ".py",
   "mimetype": "text/x-python",
   "name": "python",
   "nbconvert_exporter": "python",
   "pygments_lexer": "ipython3",
   "version": "3.8.8"
  }
 },
 "nbformat": 4,
 "nbformat_minor": 5
}
