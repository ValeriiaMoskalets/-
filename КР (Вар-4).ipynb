{
 "cells": [
  {
   "cell_type": "markdown",
   "id": "6915d6d2",
   "metadata": {},
   "source": [
    "# Data Preprocessing"
   ]
  },
  {
   "cell_type": "code",
   "execution_count": 13,
   "id": "3abb2be2",
   "metadata": {},
   "outputs": [],
   "source": [
    "#!pip install numpy\n",
    "#!pip install matplotlib\n",
    "#!pip install pandas"
   ]
  },
  {
   "cell_type": "markdown",
   "id": "e97cccda",
   "metadata": {},
   "source": [
    "# Importing Data"
   ]
  },
  {
   "cell_type": "code",
   "execution_count": 2,
   "id": "af36aec3",
   "metadata": {},
   "outputs": [],
   "source": [
    "# Importing the libraries\n",
    "import numpy as np\n",
    "import matplotlib.pyplot as plt\n",
    "import pandas as pd"
   ]
  },
  {
   "cell_type": "code",
   "execution_count": 3,
   "id": "4be20736",
   "metadata": {},
   "outputs": [],
   "source": [
    "# Importing the dataset\n",
    "df = pd.read_excel('КР-1.xlsx', sheet_name='Вар (4)')"
   ]
  },
  {
   "cell_type": "code",
   "execution_count": 4,
   "id": "c80a1b84",
   "metadata": {},
   "outputs": [
    {
     "data": {
      "text/html": [
       "<div>\n",
       "<style scoped>\n",
       "    .dataframe tbody tr th:only-of-type {\n",
       "        vertical-align: middle;\n",
       "    }\n",
       "\n",
       "    .dataframe tbody tr th {\n",
       "        vertical-align: top;\n",
       "    }\n",
       "\n",
       "    .dataframe thead th {\n",
       "        text-align: right;\n",
       "    }\n",
       "</style>\n",
       "<table border=\"1\" class=\"dataframe\">\n",
       "  <thead>\n",
       "    <tr style=\"text-align: right;\">\n",
       "      <th></th>\n",
       "      <th>Торговельна площа, кв м</th>\n",
       "      <th>Этаж</th>\n",
       "      <th>Количество касс</th>\n",
       "      <th>Тип</th>\n",
       "      <th>Рейтинг в гуглі</th>\n",
       "      <th>Количество чеков</th>\n",
       "      <th>Средний чек</th>\n",
       "      <th>Населення</th>\n",
       "      <th>Середній дохід населення</th>\n",
       "      <th>Спеціалізоване мясо</th>\n",
       "      <th>Спеціалізований сир</th>\n",
       "      <th>Спеціалізована поб хімія</th>\n",
       "      <th>Супермаркет</th>\n",
       "      <th>Магазин біля дому</th>\n",
       "    </tr>\n",
       "  </thead>\n",
       "  <tbody>\n",
       "    <tr>\n",
       "      <th>0</th>\n",
       "      <td>9.00</td>\n",
       "      <td>1</td>\n",
       "      <td>1</td>\n",
       "      <td>старий</td>\n",
       "      <td>3.0</td>\n",
       "      <td>659.0</td>\n",
       "      <td>76.85</td>\n",
       "      <td>108.0</td>\n",
       "      <td>14910.0</td>\n",
       "      <td>1</td>\n",
       "      <td>1</td>\n",
       "      <td>0</td>\n",
       "      <td>1</td>\n",
       "      <td>1</td>\n",
       "    </tr>\n",
       "    <tr>\n",
       "      <th>1</th>\n",
       "      <td>22.00</td>\n",
       "      <td>1</td>\n",
       "      <td>1</td>\n",
       "      <td>старий</td>\n",
       "      <td>4.1</td>\n",
       "      <td>1518.0</td>\n",
       "      <td>84.86</td>\n",
       "      <td>750.0</td>\n",
       "      <td>9030.0</td>\n",
       "      <td>0</td>\n",
       "      <td>0</td>\n",
       "      <td>0</td>\n",
       "      <td>1</td>\n",
       "      <td>1</td>\n",
       "    </tr>\n",
       "    <tr>\n",
       "      <th>2</th>\n",
       "      <td>13.00</td>\n",
       "      <td>1</td>\n",
       "      <td>1</td>\n",
       "      <td>старий</td>\n",
       "      <td>3.0</td>\n",
       "      <td>476.0</td>\n",
       "      <td>112.02</td>\n",
       "      <td>0.0</td>\n",
       "      <td>9030.0</td>\n",
       "      <td>0</td>\n",
       "      <td>0</td>\n",
       "      <td>0</td>\n",
       "      <td>0</td>\n",
       "      <td>0</td>\n",
       "    </tr>\n",
       "    <tr>\n",
       "      <th>3</th>\n",
       "      <td>18.00</td>\n",
       "      <td>1</td>\n",
       "      <td>1</td>\n",
       "      <td>старий</td>\n",
       "      <td>3.0</td>\n",
       "      <td>1310.0</td>\n",
       "      <td>119.80</td>\n",
       "      <td>0.0</td>\n",
       "      <td>13930.0</td>\n",
       "      <td>1</td>\n",
       "      <td>0</td>\n",
       "      <td>0</td>\n",
       "      <td>1</td>\n",
       "      <td>1</td>\n",
       "    </tr>\n",
       "    <tr>\n",
       "      <th>4</th>\n",
       "      <td>25.00</td>\n",
       "      <td>1</td>\n",
       "      <td>1</td>\n",
       "      <td>новий</td>\n",
       "      <td>4.0</td>\n",
       "      <td>2029.0</td>\n",
       "      <td>94.88</td>\n",
       "      <td>0.0</td>\n",
       "      <td>14560.0</td>\n",
       "      <td>0</td>\n",
       "      <td>0</td>\n",
       "      <td>0</td>\n",
       "      <td>0</td>\n",
       "      <td>0</td>\n",
       "    </tr>\n",
       "    <tr>\n",
       "      <th>...</th>\n",
       "      <td>...</td>\n",
       "      <td>...</td>\n",
       "      <td>...</td>\n",
       "      <td>...</td>\n",
       "      <td>...</td>\n",
       "      <td>...</td>\n",
       "      <td>...</td>\n",
       "      <td>...</td>\n",
       "      <td>...</td>\n",
       "      <td>...</td>\n",
       "      <td>...</td>\n",
       "      <td>...</td>\n",
       "      <td>...</td>\n",
       "      <td>...</td>\n",
       "    </tr>\n",
       "    <tr>\n",
       "      <th>64</th>\n",
       "      <td>40.78</td>\n",
       "      <td>1</td>\n",
       "      <td>2</td>\n",
       "      <td>новий</td>\n",
       "      <td>4.0</td>\n",
       "      <td>6884.0</td>\n",
       "      <td>107.37</td>\n",
       "      <td>963.0</td>\n",
       "      <td>9800.0</td>\n",
       "      <td>0</td>\n",
       "      <td>0</td>\n",
       "      <td>1</td>\n",
       "      <td>0</td>\n",
       "      <td>0</td>\n",
       "    </tr>\n",
       "    <tr>\n",
       "      <th>65</th>\n",
       "      <td>21.50</td>\n",
       "      <td>1</td>\n",
       "      <td>1</td>\n",
       "      <td>новий</td>\n",
       "      <td>2.3</td>\n",
       "      <td>4721.0</td>\n",
       "      <td>89.13</td>\n",
       "      <td>0.0</td>\n",
       "      <td>12600.0</td>\n",
       "      <td>1</td>\n",
       "      <td>1</td>\n",
       "      <td>1</td>\n",
       "      <td>0</td>\n",
       "      <td>0</td>\n",
       "    </tr>\n",
       "    <tr>\n",
       "      <th>66</th>\n",
       "      <td>115.23</td>\n",
       "      <td>1</td>\n",
       "      <td>1</td>\n",
       "      <td>старий</td>\n",
       "      <td>3.0</td>\n",
       "      <td>3286.0</td>\n",
       "      <td>105.62</td>\n",
       "      <td>315.0</td>\n",
       "      <td>10570.0</td>\n",
       "      <td>0</td>\n",
       "      <td>0</td>\n",
       "      <td>0</td>\n",
       "      <td>0</td>\n",
       "      <td>1</td>\n",
       "    </tr>\n",
       "    <tr>\n",
       "      <th>67</th>\n",
       "      <td>34.80</td>\n",
       "      <td>1</td>\n",
       "      <td>2</td>\n",
       "      <td>новий</td>\n",
       "      <td>4.3</td>\n",
       "      <td>3963.0</td>\n",
       "      <td>168.07</td>\n",
       "      <td>0.0</td>\n",
       "      <td>12460.0</td>\n",
       "      <td>1</td>\n",
       "      <td>1</td>\n",
       "      <td>0</td>\n",
       "      <td>0</td>\n",
       "      <td>0</td>\n",
       "    </tr>\n",
       "    <tr>\n",
       "      <th>68</th>\n",
       "      <td>22.00</td>\n",
       "      <td>1</td>\n",
       "      <td>1</td>\n",
       "      <td>новий</td>\n",
       "      <td>4.9</td>\n",
       "      <td>4200.0</td>\n",
       "      <td>101.73</td>\n",
       "      <td>678.0</td>\n",
       "      <td>10430.0</td>\n",
       "      <td>1</td>\n",
       "      <td>1</td>\n",
       "      <td>0</td>\n",
       "      <td>0</td>\n",
       "      <td>0</td>\n",
       "    </tr>\n",
       "  </tbody>\n",
       "</table>\n",
       "<p>69 rows × 14 columns</p>\n",
       "</div>"
      ],
      "text/plain": [
       "    Торговельна площа, кв м  Этаж  Количество касс     Тип  Рейтинг в гуглі  \\\n",
       "0                      9.00     1                1  старий              3.0   \n",
       "1                     22.00     1                1  старий              4.1   \n",
       "2                     13.00     1                1  старий              3.0   \n",
       "3                     18.00     1                1  старий              3.0   \n",
       "4                     25.00     1                1   новий              4.0   \n",
       "..                      ...   ...              ...     ...              ...   \n",
       "64                    40.78     1                2   новий              4.0   \n",
       "65                    21.50     1                1   новий              2.3   \n",
       "66                   115.23     1                1  старий              3.0   \n",
       "67                    34.80     1                2   новий              4.3   \n",
       "68                    22.00     1                1   новий              4.9   \n",
       "\n",
       "    Количество чеков  Средний чек  Населення  Середній дохід населення  \\\n",
       "0              659.0        76.85      108.0                   14910.0   \n",
       "1             1518.0        84.86      750.0                    9030.0   \n",
       "2              476.0       112.02        0.0                    9030.0   \n",
       "3             1310.0       119.80        0.0                   13930.0   \n",
       "4             2029.0        94.88        0.0                   14560.0   \n",
       "..               ...          ...        ...                       ...   \n",
       "64            6884.0       107.37      963.0                    9800.0   \n",
       "65            4721.0        89.13        0.0                   12600.0   \n",
       "66            3286.0       105.62      315.0                   10570.0   \n",
       "67            3963.0       168.07        0.0                   12460.0   \n",
       "68            4200.0       101.73      678.0                   10430.0   \n",
       "\n",
       "    Спеціалізоване мясо  Спеціалізований сир  Спеціалізована поб хімія  \\\n",
       "0                     1                    1                         0   \n",
       "1                     0                    0                         0   \n",
       "2                     0                    0                         0   \n",
       "3                     1                    0                         0   \n",
       "4                     0                    0                         0   \n",
       "..                  ...                  ...                       ...   \n",
       "64                    0                    0                         1   \n",
       "65                    1                    1                         1   \n",
       "66                    0                    0                         0   \n",
       "67                    1                    1                         0   \n",
       "68                    1                    1                         0   \n",
       "\n",
       "    Супермаркет  Магазин біля дому  \n",
       "0             1                  1  \n",
       "1             1                  1  \n",
       "2             0                  0  \n",
       "3             1                  1  \n",
       "4             0                  0  \n",
       "..          ...                ...  \n",
       "64            0                  0  \n",
       "65            0                  0  \n",
       "66            0                  1  \n",
       "67            0                  0  \n",
       "68            0                  0  \n",
       "\n",
       "[69 rows x 14 columns]"
      ]
     },
     "execution_count": 4,
     "metadata": {},
     "output_type": "execute_result"
    }
   ],
   "source": [
    "df"
   ]
  },
  {
   "cell_type": "code",
   "execution_count": 5,
   "id": "3a333d19",
   "metadata": {},
   "outputs": [
    {
     "name": "stdout",
     "output_type": "stream",
     "text": [
      "<class 'pandas.core.frame.DataFrame'>\n",
      "RangeIndex: 69 entries, 0 to 68\n",
      "Data columns (total 14 columns):\n",
      " #   Column                    Non-Null Count  Dtype  \n",
      "---  ------                    --------------  -----  \n",
      " 0   Торговельна площа, кв м   69 non-null     float64\n",
      " 1   Этаж                      69 non-null     int64  \n",
      " 2   Количество касс           69 non-null     int64  \n",
      " 3   Тип                       69 non-null     object \n",
      " 4   Рейтинг в гуглі           69 non-null     float64\n",
      " 5   Количество чеков          69 non-null     float64\n",
      " 6   Средний чек               62 non-null     float64\n",
      " 7   Населення                 64 non-null     float64\n",
      " 8   Середній дохід населення  64 non-null     float64\n",
      " 9   Спеціалізоване мясо       69 non-null     int64  \n",
      " 10  Спеціалізований сир       69 non-null     int64  \n",
      " 11  Спеціалізована поб хімія  69 non-null     int64  \n",
      " 12  Супермаркет               69 non-null     int64  \n",
      " 13  Магазин біля дому         69 non-null     int64  \n",
      "dtypes: float64(6), int64(7), object(1)\n",
      "memory usage: 7.3+ KB\n"
     ]
    }
   ],
   "source": [
    "df.info()"
   ]
  },
  {
   "cell_type": "code",
   "execution_count": 23,
   "id": "1474ff90",
   "metadata": {},
   "outputs": [],
   "source": [
    "# Drop useless\n",
    "df = df.drop(['Этаж'], axis='columns', inplace=False)"
   ]
  },
  {
   "cell_type": "code",
   "execution_count": 24,
   "id": "fddadd94",
   "metadata": {},
   "outputs": [
    {
     "data": {
      "text/html": [
       "<div>\n",
       "<style scoped>\n",
       "    .dataframe tbody tr th:only-of-type {\n",
       "        vertical-align: middle;\n",
       "    }\n",
       "\n",
       "    .dataframe tbody tr th {\n",
       "        vertical-align: top;\n",
       "    }\n",
       "\n",
       "    .dataframe thead th {\n",
       "        text-align: right;\n",
       "    }\n",
       "</style>\n",
       "<table border=\"1\" class=\"dataframe\">\n",
       "  <thead>\n",
       "    <tr style=\"text-align: right;\">\n",
       "      <th></th>\n",
       "      <th>Торговельна площа, кв м</th>\n",
       "      <th>Количество касс</th>\n",
       "      <th>Тип</th>\n",
       "      <th>Рейтинг в гуглі</th>\n",
       "      <th>Количество чеков</th>\n",
       "      <th>Средний чек</th>\n",
       "      <th>Населення</th>\n",
       "      <th>Середній дохід населення</th>\n",
       "      <th>Спеціалізоване мясо</th>\n",
       "      <th>Спеціалізований сир</th>\n",
       "      <th>Спеціалізована поб хімія</th>\n",
       "      <th>Супермаркет</th>\n",
       "      <th>Магазин біля дому</th>\n",
       "    </tr>\n",
       "  </thead>\n",
       "  <tbody>\n",
       "    <tr>\n",
       "      <th>0</th>\n",
       "      <td>9.0</td>\n",
       "      <td>1.0</td>\n",
       "      <td>старий</td>\n",
       "      <td>3.0</td>\n",
       "      <td>659.0</td>\n",
       "      <td>77.0</td>\n",
       "      <td>108.0</td>\n",
       "      <td>14910.0</td>\n",
       "      <td>1</td>\n",
       "      <td>1</td>\n",
       "      <td>0</td>\n",
       "      <td>1</td>\n",
       "      <td>1</td>\n",
       "    </tr>\n",
       "    <tr>\n",
       "      <th>1</th>\n",
       "      <td>22.0</td>\n",
       "      <td>1.0</td>\n",
       "      <td>старий</td>\n",
       "      <td>4.1</td>\n",
       "      <td>1518.0</td>\n",
       "      <td>85.0</td>\n",
       "      <td>750.0</td>\n",
       "      <td>9030.0</td>\n",
       "      <td>0</td>\n",
       "      <td>0</td>\n",
       "      <td>0</td>\n",
       "      <td>1</td>\n",
       "      <td>1</td>\n",
       "    </tr>\n",
       "    <tr>\n",
       "      <th>2</th>\n",
       "      <td>13.0</td>\n",
       "      <td>1.0</td>\n",
       "      <td>старий</td>\n",
       "      <td>3.0</td>\n",
       "      <td>476.0</td>\n",
       "      <td>112.0</td>\n",
       "      <td>0.0</td>\n",
       "      <td>9030.0</td>\n",
       "      <td>0</td>\n",
       "      <td>0</td>\n",
       "      <td>0</td>\n",
       "      <td>0</td>\n",
       "      <td>0</td>\n",
       "    </tr>\n",
       "    <tr>\n",
       "      <th>3</th>\n",
       "      <td>18.0</td>\n",
       "      <td>1.0</td>\n",
       "      <td>старий</td>\n",
       "      <td>3.0</td>\n",
       "      <td>1310.0</td>\n",
       "      <td>120.0</td>\n",
       "      <td>0.0</td>\n",
       "      <td>13930.0</td>\n",
       "      <td>1</td>\n",
       "      <td>0</td>\n",
       "      <td>0</td>\n",
       "      <td>1</td>\n",
       "      <td>1</td>\n",
       "    </tr>\n",
       "    <tr>\n",
       "      <th>4</th>\n",
       "      <td>25.0</td>\n",
       "      <td>1.0</td>\n",
       "      <td>новий</td>\n",
       "      <td>4.0</td>\n",
       "      <td>2029.0</td>\n",
       "      <td>95.0</td>\n",
       "      <td>0.0</td>\n",
       "      <td>14560.0</td>\n",
       "      <td>0</td>\n",
       "      <td>0</td>\n",
       "      <td>0</td>\n",
       "      <td>0</td>\n",
       "      <td>0</td>\n",
       "    </tr>\n",
       "  </tbody>\n",
       "</table>\n",
       "</div>"
      ],
      "text/plain": [
       "   Торговельна площа, кв м  Количество касс     Тип  Рейтинг в гуглі  \\\n",
       "0                      9.0              1.0  старий              3.0   \n",
       "1                     22.0              1.0  старий              4.1   \n",
       "2                     13.0              1.0  старий              3.0   \n",
       "3                     18.0              1.0  старий              3.0   \n",
       "4                     25.0              1.0   новий              4.0   \n",
       "\n",
       "   Количество чеков  Средний чек  Населення  Середній дохід населення  \\\n",
       "0             659.0         77.0      108.0                   14910.0   \n",
       "1            1518.0         85.0      750.0                    9030.0   \n",
       "2             476.0        112.0        0.0                    9030.0   \n",
       "3            1310.0        120.0        0.0                   13930.0   \n",
       "4            2029.0         95.0        0.0                   14560.0   \n",
       "\n",
       "   Спеціалізоване мясо  Спеціалізований сир  Спеціалізована поб хімія  \\\n",
       "0                    1                    1                         0   \n",
       "1                    0                    0                         0   \n",
       "2                    0                    0                         0   \n",
       "3                    1                    0                         0   \n",
       "4                    0                    0                         0   \n",
       "\n",
       "   Супермаркет  Магазин біля дому  \n",
       "0            1                  1  \n",
       "1            1                  1  \n",
       "2            0                  0  \n",
       "3            1                  1  \n",
       "4            0                  0  "
      ]
     },
     "execution_count": 24,
     "metadata": {},
     "output_type": "execute_result"
    }
   ],
   "source": [
    "df.head(5)"
   ]
  },
  {
   "cell_type": "markdown",
   "id": "ed4e528a",
   "metadata": {},
   "source": [
    "# Visualization"
   ]
  },
  {
   "cell_type": "code",
   "execution_count": 9,
   "id": "8fa6f039",
   "metadata": {},
   "outputs": [
    {
     "data": {
      "text/plain": [
       "<AxesSubplot:ylabel='Frequency'>"
      ]
     },
     "execution_count": 9,
     "metadata": {},
     "output_type": "execute_result"
    },
    {
     "data": {
      "image/png": "[encoded data removed]",
      "text/plain": [
       "<Figure size 432x288 with 1 Axes>"
      ]
     },
     "metadata": {
      "needs_background": "light"
     },
     "output_type": "display_data"
    }
   ],
   "source": [
    "# Feature distribution\n",
    "df['Торговельна площа, кв. м.'].plot(kind='hist')"
   ]
  },
  {
   "cell_type": "code",
   "execution_count": 10,
   "id": "3bc79fb8",
   "metadata": {},
   "outputs": [
    {
     "data": {
      "text/plain": [
       "<AxesSubplot:ylabel='Frequency'>"
      ]
     },
     "execution_count": 10,
     "metadata": {},
     "output_type": "execute_result"
    },
    {
     "data": {
      "image/png": "[encoded data removed]",
      "text/plain": [
       "<Figure size 432x288 with 1 Axes>"
      ]
     },
     "metadata": {
      "needs_background": "light"
     },
     "output_type": "display_data"
    }
   ],
   "source": [
    "# Feature distribution\n",
    "df['Количество касс'].plot(kind='hist')"
   ]
  },
  {
   "cell_type": "code",
   "execution_count": 11,
   "id": "f08f90ed",
   "metadata": {},
   "outputs": [
    {
     "data": {
      "text/plain": [
       "<AxesSubplot:ylabel='Frequency'>"
      ]
     },
     "execution_count": 11,
     "metadata": {},
     "output_type": "execute_result"
    },
    {
     "data": {
      "image/png": "[encoded data removed]",
      "text/plain": [
       "<Figure size 432x288 with 1 Axes>"
      ]
     },
     "metadata": {
      "needs_background": "light"
     },
     "output_type": "display_data"
    }
   ],
   "source": [
    "# Feature distribution\n",
    "df['Рейтинг в гуглі'].plot(kind='hist')"
   ]
  },
  {
   "cell_type": "code",
   "execution_count": 12,
   "id": "f9bc4ded",
   "metadata": {},
   "outputs": [
    {
     "data": {
      "text/plain": [
       "<AxesSubplot:ylabel='Frequency'>"
      ]
     },
     "execution_count": 12,
     "metadata": {},
     "output_type": "execute_result"
    },
    {
     "data": {
      "image/png": "[encoded data removed]",
      "text/plain": [
       "<Figure size 432x288 with 1 Axes>"
      ]
     },
     "metadata": {
      "needs_background": "light"
     },
     "output_type": "display_data"
    }
   ],
   "source": [
    "# Feature distribution\n",
    "df['Количество чеков'].plot(kind='hist')"
   ]
  },
  {
   "cell_type": "code",
   "execution_count": 13,
   "id": "098e3197",
   "metadata": {},
   "outputs": [
    {
     "data": {
      "text/plain": [
       "<AxesSubplot:ylabel='Frequency'>"
      ]
     },
     "execution_count": 13,
     "metadata": {},
     "output_type": "execute_result"
    },
    {
     "data": {
      "image/png": "[encoded data removed]",
      "text/plain": [
       "<Figure size 432x288 with 1 Axes>"
      ]
     },
     "metadata": {
      "needs_background": "light"
     },
     "output_type": "display_data"
    }
   ],
   "source": [
    "# Feature distribution\n",
    "df['Средний чек'].plot(kind='hist')"
   ]
  },
  {
   "cell_type": "code",
   "execution_count": 14,
   "id": "3525027c",
   "metadata": {},
   "outputs": [
    {
     "data": {
      "text/plain": [
       "<AxesSubplot:ylabel='Frequency'>"
      ]
     },
     "execution_count": 14,
     "metadata": {},
     "output_type": "execute_result"
    },
    {
     "data": {
      "image/png": "[encoded data removed]",
      "text/plain": [
       "<Figure size 432x288 with 1 Axes>"
      ]
     },
     "metadata": {
      "needs_background": "light"
     },
     "output_type": "display_data"
    }
   ],
   "source": [
    "# Feature distribution\n",
    "df['Населення'].plot(kind='hist')"
   ]
  },
  {
   "cell_type": "code",
   "execution_count": 15,
   "id": "381b3dfe",
   "metadata": {},
   "outputs": [
    {
     "data": {
      "text/plain": [
       "<AxesSubplot:ylabel='Frequency'>"
      ]
     },
     "execution_count": 15,
     "metadata": {},
     "output_type": "execute_result"
    },
    {
     "data": {
      "image/png": "[encoded data removed]",
      "text/plain": [
       "<Figure size 432x288 with 1 Axes>"
      ]
     },
     "metadata": {
      "needs_background": "light"
     },
     "output_type": "display_data"
    }
   ],
   "source": [
    "# Feature distribution\n",
    "df['Середній дохід населення'].plot(kind='hist')"
   ]
  },
  {
   "cell_type": "code",
   "execution_count": 6,
   "id": "7921c2aa",
   "metadata": {},
   "outputs": [
    {
     "data": {
      "text/plain": [
       "<AxesSubplot:ylabel='Frequency'>"
      ]
     },
     "execution_count": 6,
     "metadata": {},
     "output_type": "execute_result"
    },
    {
     "data": {
      "image/png": "[encoded data removed]",
      "text/plain": [
       "<Figure size 432x288 with 1 Axes>"
      ]
     },
     "metadata": {
      "needs_background": "light"
     },
     "output_type": "display_data"
    }
   ],
   "source": [
    "# Feature distribution\n",
    "df['Спеціалізоване мясо'].plot(kind='hist') "
   ]
  },
  {
   "cell_type": "code",
   "execution_count": 16,
   "id": "a98d9afb",
   "metadata": {},
   "outputs": [
    {
     "data": {
      "text/plain": [
       "<AxesSubplot:ylabel='Frequency'>"
      ]
     },
     "execution_count": 16,
     "metadata": {},
     "output_type": "execute_result"
    },
    {
     "data": {
      "image/png": "[encoded data removed]",
      "text/plain": [
       "<Figure size 432x288 with 1 Axes>"
      ]
     },
     "metadata": {
      "needs_background": "light"
     },
     "output_type": "display_data"
    }
   ],
   "source": [
    "# Feature distribution\n",
    "df['Спеціалізований сир'].plot(kind='hist')"
   ]
  },
  {
   "cell_type": "code",
   "execution_count": 17,
   "id": "6c8ab815",
   "metadata": {},
   "outputs": [
    {
     "data": {
      "text/plain": [
       "<AxesSubplot:ylabel='Frequency'>"
      ]
     },
     "execution_count": 17,
     "metadata": {},
     "output_type": "execute_result"
    },
    {
     "data": {
      "image/png": "[encoded data removed]",
      "text/plain": [
       "<Figure size 432x288 with 1 Axes>"
      ]
     },
     "metadata": {
      "needs_background": "light"
     },
     "output_type": "display_data"
    }
   ],
   "source": [
    "# Feature distribution\n",
    "df['Спеціалізована поб. Хімія'].plot(kind='hist')"
   ]
  },
  {
   "cell_type": "code",
   "execution_count": 18,
   "id": "19f4d674",
   "metadata": {},
   "outputs": [
    {
     "data": {
      "text/plain": [
       "<AxesSubplot:ylabel='Frequency'>"
      ]
     },
     "execution_count": 18,
     "metadata": {},
     "output_type": "execute_result"
    },
    {
     "data": {
      "image/png": "[encoded data removed]",
      "text/plain": [
       "<Figure size 432x288 with 1 Axes>"
      ]
     },
     "metadata": {
      "needs_background": "light"
     },
     "output_type": "display_data"
    }
   ],
   "source": [
    "# Feature distribution\n",
    "df['Супермаркет'].plot(kind='hist')"
   ]
  },
  {
   "cell_type": "code",
   "execution_count": 19,
   "id": "8a40442d",
   "metadata": {},
   "outputs": [
    {
     "data": {
      "text/plain": [
       "<AxesSubplot:ylabel='Frequency'>"
      ]
     },
     "execution_count": 19,
     "metadata": {},
     "output_type": "execute_result"
    },
    {
     "data": {
      "image/png": "[encoded data removed]",
      "text/plain": [
       "<Figure size 432x288 with 1 Axes>"
      ]
     },
     "metadata": {
      "needs_background": "light"
     },
     "output_type": "display_data"
    }
   ],
   "source": [
    "# Feature distribution\n",
    "df['Магазин біля дому'].plot(kind='hist')"
   ]
  },
  {
   "cell_type": "markdown",
   "id": "15ec6637",
   "metadata": {},
   "source": [
    "# Statistics"
   ]
  },
  {
   "cell_type": "code",
   "execution_count": 10,
   "id": "2aedde12",
   "metadata": {},
   "outputs": [
    {
     "data": {
      "text/html": [
       "<div>\n",
       "<style scoped>\n",
       "    .dataframe tbody tr th:only-of-type {\n",
       "        vertical-align: middle;\n",
       "    }\n",
       "\n",
       "    .dataframe tbody tr th {\n",
       "        vertical-align: top;\n",
       "    }\n",
       "\n",
       "    .dataframe thead th {\n",
       "        text-align: right;\n",
       "    }\n",
       "</style>\n",
       "<table border=\"1\" class=\"dataframe\">\n",
       "  <thead>\n",
       "    <tr style=\"text-align: right;\">\n",
       "      <th></th>\n",
       "      <th>Торговельна площа, кв м</th>\n",
       "      <th>Количество касс</th>\n",
       "      <th>Рейтинг в гуглі</th>\n",
       "      <th>Количество чеков</th>\n",
       "      <th>Средний чек</th>\n",
       "      <th>Населення</th>\n",
       "      <th>Середній дохід населення</th>\n",
       "      <th>Спеціалізоване мясо</th>\n",
       "      <th>Спеціалізований сир</th>\n",
       "      <th>Спеціалізована поб хімія</th>\n",
       "      <th>Супермаркет</th>\n",
       "      <th>Магазин біля дому</th>\n",
       "    </tr>\n",
       "  </thead>\n",
       "  <tbody>\n",
       "    <tr>\n",
       "      <th>count</th>\n",
       "      <td>69.000000</td>\n",
       "      <td>69.000000</td>\n",
       "      <td>69.000000</td>\n",
       "      <td>69.000000</td>\n",
       "      <td>62.000000</td>\n",
       "      <td>64.000000</td>\n",
       "      <td>64.000000</td>\n",
       "      <td>69.000000</td>\n",
       "      <td>69.000000</td>\n",
       "      <td>69.000000</td>\n",
       "      <td>69.000000</td>\n",
       "      <td>69.000000</td>\n",
       "    </tr>\n",
       "    <tr>\n",
       "      <th>mean</th>\n",
       "      <td>34.872145</td>\n",
       "      <td>1.231884</td>\n",
       "      <td>3.810145</td>\n",
       "      <td>4084.097008</td>\n",
       "      <td>95.897581</td>\n",
       "      <td>295.953125</td>\n",
       "      <td>11418.593750</td>\n",
       "      <td>0.289855</td>\n",
       "      <td>0.231884</td>\n",
       "      <td>0.246377</td>\n",
       "      <td>0.202899</td>\n",
       "      <td>0.304348</td>\n",
       "    </tr>\n",
       "    <tr>\n",
       "      <th>std</th>\n",
       "      <td>21.704293</td>\n",
       "      <td>0.458416</td>\n",
       "      <td>0.695605</td>\n",
       "      <td>2213.334346</td>\n",
       "      <td>19.192685</td>\n",
       "      <td>322.552785</td>\n",
       "      <td>2528.015011</td>\n",
       "      <td>0.457019</td>\n",
       "      <td>0.425127</td>\n",
       "      <td>0.434057</td>\n",
       "      <td>0.405104</td>\n",
       "      <td>0.463502</td>\n",
       "    </tr>\n",
       "    <tr>\n",
       "      <th>min</th>\n",
       "      <td>4.000000</td>\n",
       "      <td>1.000000</td>\n",
       "      <td>1.800000</td>\n",
       "      <td>476.000000</td>\n",
       "      <td>65.270000</td>\n",
       "      <td>0.000000</td>\n",
       "      <td>0.000000</td>\n",
       "      <td>0.000000</td>\n",
       "      <td>0.000000</td>\n",
       "      <td>0.000000</td>\n",
       "      <td>0.000000</td>\n",
       "      <td>0.000000</td>\n",
       "    </tr>\n",
       "    <tr>\n",
       "      <th>25%</th>\n",
       "      <td>22.000000</td>\n",
       "      <td>1.000000</td>\n",
       "      <td>3.000000</td>\n",
       "      <td>2344.000000</td>\n",
       "      <td>82.420000</td>\n",
       "      <td>0.000000</td>\n",
       "      <td>10412.500000</td>\n",
       "      <td>0.000000</td>\n",
       "      <td>0.000000</td>\n",
       "      <td>0.000000</td>\n",
       "      <td>0.000000</td>\n",
       "      <td>0.000000</td>\n",
       "    </tr>\n",
       "    <tr>\n",
       "      <th>50%</th>\n",
       "      <td>27.500000</td>\n",
       "      <td>1.000000</td>\n",
       "      <td>4.000000</td>\n",
       "      <td>3995.469796</td>\n",
       "      <td>93.855000</td>\n",
       "      <td>179.500000</td>\n",
       "      <td>11515.000000</td>\n",
       "      <td>0.000000</td>\n",
       "      <td>0.000000</td>\n",
       "      <td>0.000000</td>\n",
       "      <td>0.000000</td>\n",
       "      <td>0.000000</td>\n",
       "    </tr>\n",
       "    <tr>\n",
       "      <th>75%</th>\n",
       "      <td>41.000000</td>\n",
       "      <td>1.000000</td>\n",
       "      <td>4.300000</td>\n",
       "      <td>4826.000000</td>\n",
       "      <td>102.787500</td>\n",
       "      <td>564.000000</td>\n",
       "      <td>12915.000000</td>\n",
       "      <td>1.000000</td>\n",
       "      <td>0.000000</td>\n",
       "      <td>0.000000</td>\n",
       "      <td>0.000000</td>\n",
       "      <td>1.000000</td>\n",
       "    </tr>\n",
       "    <tr>\n",
       "      <th>max</th>\n",
       "      <td>119.300000</td>\n",
       "      <td>3.000000</td>\n",
       "      <td>5.000000</td>\n",
       "      <td>9687.000000</td>\n",
       "      <td>168.070000</td>\n",
       "      <td>963.000000</td>\n",
       "      <td>15470.000000</td>\n",
       "      <td>1.000000</td>\n",
       "      <td>1.000000</td>\n",
       "      <td>1.000000</td>\n",
       "      <td>1.000000</td>\n",
       "      <td>1.000000</td>\n",
       "    </tr>\n",
       "  </tbody>\n",
       "</table>\n",
       "</div>"
      ],
      "text/plain": [
       "       Торговельна площа, кв м  Количество касс  Рейтинг в гуглі  \\\n",
       "count                69.000000        69.000000        69.000000   \n",
       "mean                 34.872145         1.231884         3.810145   \n",
       "std                  21.704293         0.458416         0.695605   \n",
       "min                   4.000000         1.000000         1.800000   \n",
       "25%                  22.000000         1.000000         3.000000   \n",
       "50%                  27.500000         1.000000         4.000000   \n",
       "75%                  41.000000         1.000000         4.300000   \n",
       "max                 119.300000         3.000000         5.000000   \n",
       "\n",
       "       Количество чеков  Средний чек   Населення  Середній дохід населення  \\\n",
       "count         69.000000    62.000000   64.000000                 64.000000   \n",
       "mean        4084.097008    95.897581  295.953125              11418.593750   \n",
       "std         2213.334346    19.192685  322.552785               2528.015011   \n",
       "min          476.000000    65.270000    0.000000                  0.000000   \n",
       "25%         2344.000000    82.420000    0.000000              10412.500000   \n",
       "50%         3995.469796    93.855000  179.500000              11515.000000   \n",
       "75%         4826.000000   102.787500  564.000000              12915.000000   \n",
       "max         9687.000000   168.070000  963.000000              15470.000000   \n",
       "\n",
       "       Спеціалізоване мясо  Спеціалізований сир  Спеціалізована поб хімія  \\\n",
       "count            69.000000            69.000000                 69.000000   \n",
       "mean              0.289855             0.231884                  0.246377   \n",
       "std               0.457019             0.425127                  0.434057   \n",
       "min               0.000000             0.000000                  0.000000   \n",
       "25%               0.000000             0.000000                  0.000000   \n",
       "50%               0.000000             0.000000                  0.000000   \n",
       "75%               1.000000             0.000000                  0.000000   \n",
       "max               1.000000             1.000000                  1.000000   \n",
       "\n",
       "       Супермаркет  Магазин біля дому  \n",
       "count    69.000000          69.000000  \n",
       "mean      0.202899           0.304348  \n",
       "std       0.405104           0.463502  \n",
       "min       0.000000           0.000000  \n",
       "25%       0.000000           0.000000  \n",
       "50%       0.000000           0.000000  \n",
       "75%       0.000000           1.000000  \n",
       "max       1.000000           1.000000  "
      ]
     },
     "execution_count": 10,
     "metadata": {},
     "output_type": "execute_result"
    }
   ],
   "source": [
    "df.describe()"
   ]
  },
  {
   "cell_type": "markdown",
   "id": "9f35303c",
   "metadata": {},
   "source": [
    "# Missing Data"
   ]
  },
  {
   "cell_type": "code",
   "execution_count": 25,
   "id": "6f78963f",
   "metadata": {},
   "outputs": [
    {
     "data": {
      "text/plain": [
       "Торговельна площа, кв м     0\n",
       "Количество касс             0\n",
       "Тип                         0\n",
       "Рейтинг в гуглі             0\n",
       "Количество чеков            0\n",
       "Средний чек                 0\n",
       "Населення                   0\n",
       "Середній дохід населення    0\n",
       "Спеціалізоване мясо         0\n",
       "Спеціалізований сир         0\n",
       "Спеціалізована поб хімія    0\n",
       "Супермаркет                 0\n",
       "Магазин біля дому           0\n",
       "dtype: int64"
      ]
     },
     "execution_count": 25,
     "metadata": {},
     "output_type": "execute_result"
    }
   ],
   "source": [
    "# Cheking Missing data\n",
    "df.isnull().sum()"
   ]
  },
  {
   "cell_type": "code",
   "execution_count": 26,
   "id": "5f126738",
   "metadata": {},
   "outputs": [
    {
     "data": {
      "text/plain": [
       "Торговельна площа, кв м     float64\n",
       "Количество касс             float64\n",
       "Тип                          object\n",
       "Рейтинг в гуглі             float64\n",
       "Количество чеков            float64\n",
       "Средний чек                 float64\n",
       "Населення                   float64\n",
       "Середній дохід населення    float64\n",
       "Спеціалізоване мясо           int64\n",
       "Спеціалізований сир           int64\n",
       "Спеціалізована поб хімія      int64\n",
       "Супермаркет                   int64\n",
       "Магазин біля дому             int64\n",
       "dtype: object"
      ]
     },
     "execution_count": 26,
     "metadata": {},
     "output_type": "execute_result"
    }
   ],
   "source": [
    "df.dtypes"
   ]
  },
  {
   "cell_type": "code",
   "execution_count": 27,
   "id": "baa5a612",
   "metadata": {},
   "outputs": [],
   "source": [
    "#!pip install sklearn"
   ]
  },
  {
   "cell_type": "code",
   "execution_count": 28,
   "id": "9e0d4409",
   "metadata": {},
   "outputs": [],
   "source": [
    "# Taking care of missing data\n",
    "\n",
    "from sklearn.impute import SimpleImputer\n",
    "#numeric\n",
    "'''SimpleImputer - класс\n",
    "imputer_mean - экземпляр\n",
    "fit - метод класса'''\n",
    "\n",
    "imputer_mean = SimpleImputer(missing_values=np.nan, strategy='mean')\n",
    "df[['Средний чек']] = imputer_mean.fit_transform(df[['Средний чек']]).round()\n",
    "df[['Населення']] = imputer_mean.fit_transform(df[['Населення']]).round()\n",
    "df[['Середній дохід населення']] = imputer_mean.fit_transform(df[['Середній дохід населення']]).round()"
   ]
  },
  {
   "cell_type": "code",
   "execution_count": 29,
   "id": "01c0fea2",
   "metadata": {},
   "outputs": [
    {
     "data": {
      "text/plain": [
       "Торговельна площа, кв м     0\n",
       "Количество касс             0\n",
       "Тип                         0\n",
       "Рейтинг в гуглі             0\n",
       "Количество чеков            0\n",
       "Средний чек                 0\n",
       "Населення                   0\n",
       "Середній дохід населення    0\n",
       "Спеціалізоване мясо         0\n",
       "Спеціалізований сир         0\n",
       "Спеціалізована поб хімія    0\n",
       "Супермаркет                 0\n",
       "Магазин біля дому           0\n",
       "dtype: int64"
      ]
     },
     "execution_count": 29,
     "metadata": {},
     "output_type": "execute_result"
    }
   ],
   "source": [
    "df.isnull().sum()"
   ]
  },
  {
   "cell_type": "markdown",
   "id": "08afdcb9",
   "metadata": {},
   "source": [
    "# Outliers"
   ]
  },
  {
   "cell_type": "code",
   "execution_count": 30,
   "id": "c743aeff",
   "metadata": {},
   "outputs": [],
   "source": [
    "# Function Outliers\n",
    "def outliers(df):\n",
    "    num_var = list(df._get_numeric_data().columns)\n",
    "    for col_names in num_var:\n",
    "        df[col_names] = df[col_names].apply(lambda y: df[col_names].mean()-3*df[col_names].std() \n",
    "                            if y < df[col_names].mean()-3*df[col_names].std() else y)\n",
    "        df[col_names] = df[col_names].apply(lambda y: df[col_names].mean()+3*df[col_names].std() \n",
    "                            if y > df[col_names].mean()+3*df[col_names].std() else y)\n",
    "    return(df)"
   ]
  },
  {
   "cell_type": "code",
   "execution_count": 31,
   "id": "47339940",
   "metadata": {},
   "outputs": [
    {
     "data": {
      "text/html": [
       "<div>\n",
       "<style scoped>\n",
       "    .dataframe tbody tr th:only-of-type {\n",
       "        vertical-align: middle;\n",
       "    }\n",
       "\n",
       "    .dataframe tbody tr th {\n",
       "        vertical-align: top;\n",
       "    }\n",
       "\n",
       "    .dataframe thead th {\n",
       "        text-align: right;\n",
       "    }\n",
       "</style>\n",
       "<table border=\"1\" class=\"dataframe\">\n",
       "  <thead>\n",
       "    <tr style=\"text-align: right;\">\n",
       "      <th></th>\n",
       "      <th>Торговельна площа, кв м</th>\n",
       "      <th>Количество касс</th>\n",
       "      <th>Рейтинг в гуглі</th>\n",
       "      <th>Количество чеков</th>\n",
       "      <th>Средний чек</th>\n",
       "      <th>Населення</th>\n",
       "      <th>Середній дохід населення</th>\n",
       "      <th>Спеціалізоване мясо</th>\n",
       "      <th>Спеціалізований сир</th>\n",
       "      <th>Спеціалізована поб хімія</th>\n",
       "      <th>Супермаркет</th>\n",
       "      <th>Магазин біля дому</th>\n",
       "    </tr>\n",
       "  </thead>\n",
       "  <tbody>\n",
       "    <tr>\n",
       "      <th>count</th>\n",
       "      <td>69.000000</td>\n",
       "      <td>69.000000</td>\n",
       "      <td>69.000000</td>\n",
       "      <td>69.000000</td>\n",
       "      <td>69.000000</td>\n",
       "      <td>69.000000</td>\n",
       "      <td>69.000000</td>\n",
       "      <td>69.000000</td>\n",
       "      <td>69.000000</td>\n",
       "      <td>69.000000</td>\n",
       "      <td>69.000000</td>\n",
       "      <td>69.000000</td>\n",
       "    </tr>\n",
       "    <tr>\n",
       "      <th>mean</th>\n",
       "      <td>34.120276</td>\n",
       "      <td>1.225225</td>\n",
       "      <td>3.810145</td>\n",
       "      <td>4084.097008</td>\n",
       "      <td>95.643536</td>\n",
       "      <td>295.956522</td>\n",
       "      <td>11558.144281</td>\n",
       "      <td>0.289855</td>\n",
       "      <td>0.231884</td>\n",
       "      <td>0.246377</td>\n",
       "      <td>0.202899</td>\n",
       "      <td>0.304348</td>\n",
       "    </tr>\n",
       "    <tr>\n",
       "      <th>std</th>\n",
       "      <td>19.073449</td>\n",
       "      <td>0.435100</td>\n",
       "      <td>0.695605</td>\n",
       "      <td>2213.334346</td>\n",
       "      <td>17.123084</td>\n",
       "      <td>310.467836</td>\n",
       "      <td>1877.119880</td>\n",
       "      <td>0.457019</td>\n",
       "      <td>0.425127</td>\n",
       "      <td>0.434057</td>\n",
       "      <td>0.405104</td>\n",
       "      <td>0.463502</td>\n",
       "    </tr>\n",
       "    <tr>\n",
       "      <th>min</th>\n",
       "      <td>4.000000</td>\n",
       "      <td>1.000000</td>\n",
       "      <td>1.800000</td>\n",
       "      <td>476.000000</td>\n",
       "      <td>65.000000</td>\n",
       "      <td>0.000000</td>\n",
       "      <td>5473.477696</td>\n",
       "      <td>0.000000</td>\n",
       "      <td>0.000000</td>\n",
       "      <td>0.000000</td>\n",
       "      <td>0.000000</td>\n",
       "      <td>0.000000</td>\n",
       "    </tr>\n",
       "    <tr>\n",
       "      <th>25%</th>\n",
       "      <td>22.000000</td>\n",
       "      <td>1.000000</td>\n",
       "      <td>3.000000</td>\n",
       "      <td>2344.000000</td>\n",
       "      <td>85.000000</td>\n",
       "      <td>0.000000</td>\n",
       "      <td>10570.000000</td>\n",
       "      <td>0.000000</td>\n",
       "      <td>0.000000</td>\n",
       "      <td>0.000000</td>\n",
       "      <td>0.000000</td>\n",
       "      <td>0.000000</td>\n",
       "    </tr>\n",
       "    <tr>\n",
       "      <th>50%</th>\n",
       "      <td>27.500000</td>\n",
       "      <td>1.000000</td>\n",
       "      <td>4.000000</td>\n",
       "      <td>3995.469796</td>\n",
       "      <td>95.000000</td>\n",
       "      <td>253.000000</td>\n",
       "      <td>11419.000000</td>\n",
       "      <td>0.000000</td>\n",
       "      <td>0.000000</td>\n",
       "      <td>0.000000</td>\n",
       "      <td>0.000000</td>\n",
       "      <td>0.000000</td>\n",
       "    </tr>\n",
       "    <tr>\n",
       "      <th>75%</th>\n",
       "      <td>41.000000</td>\n",
       "      <td>1.000000</td>\n",
       "      <td>4.300000</td>\n",
       "      <td>4826.000000</td>\n",
       "      <td>101.000000</td>\n",
       "      <td>545.000000</td>\n",
       "      <td>12880.000000</td>\n",
       "      <td>1.000000</td>\n",
       "      <td>0.000000</td>\n",
       "      <td>0.000000</td>\n",
       "      <td>0.000000</td>\n",
       "      <td>1.000000</td>\n",
       "    </tr>\n",
       "    <tr>\n",
       "      <th>max</th>\n",
       "      <td>94.050354</td>\n",
       "      <td>2.540558</td>\n",
       "      <td>5.000000</td>\n",
       "      <td>9687.000000</td>\n",
       "      <td>147.403960</td>\n",
       "      <td>963.000000</td>\n",
       "      <td>15470.000000</td>\n",
       "      <td>1.000000</td>\n",
       "      <td>1.000000</td>\n",
       "      <td>1.000000</td>\n",
       "      <td>1.000000</td>\n",
       "      <td>1.000000</td>\n",
       "    </tr>\n",
       "  </tbody>\n",
       "</table>\n",
       "</div>"
      ],
      "text/plain": [
       "       Торговельна площа, кв м  Количество касс  Рейтинг в гуглі  \\\n",
       "count                69.000000        69.000000        69.000000   \n",
       "mean                 34.120276         1.225225         3.810145   \n",
       "std                  19.073449         0.435100         0.695605   \n",
       "min                   4.000000         1.000000         1.800000   \n",
       "25%                  22.000000         1.000000         3.000000   \n",
       "50%                  27.500000         1.000000         4.000000   \n",
       "75%                  41.000000         1.000000         4.300000   \n",
       "max                  94.050354         2.540558         5.000000   \n",
       "\n",
       "       Количество чеков  Средний чек   Населення  Середній дохід населення  \\\n",
       "count         69.000000    69.000000   69.000000                 69.000000   \n",
       "mean        4084.097008    95.643536  295.956522              11558.144281   \n",
       "std         2213.334346    17.123084  310.467836               1877.119880   \n",
       "min          476.000000    65.000000    0.000000               5473.477696   \n",
       "25%         2344.000000    85.000000    0.000000              10570.000000   \n",
       "50%         3995.469796    95.000000  253.000000              11419.000000   \n",
       "75%         4826.000000   101.000000  545.000000              12880.000000   \n",
       "max         9687.000000   147.403960  963.000000              15470.000000   \n",
       "\n",
       "       Спеціалізоване мясо  Спеціалізований сир  Спеціалізована поб хімія  \\\n",
       "count            69.000000            69.000000                 69.000000   \n",
       "mean              0.289855             0.231884                  0.246377   \n",
       "std               0.457019             0.425127                  0.434057   \n",
       "min               0.000000             0.000000                  0.000000   \n",
       "25%               0.000000             0.000000                  0.000000   \n",
       "50%               0.000000             0.000000                  0.000000   \n",
       "75%               1.000000             0.000000                  0.000000   \n",
       "max               1.000000             1.000000                  1.000000   \n",
       "\n",
       "       Супермаркет  Магазин біля дому  \n",
       "count    69.000000          69.000000  \n",
       "mean      0.202899           0.304348  \n",
       "std       0.405104           0.463502  \n",
       "min       0.000000           0.000000  \n",
       "25%       0.000000           0.000000  \n",
       "50%       0.000000           0.000000  \n",
       "75%       0.000000           1.000000  \n",
       "max       1.000000           1.000000  "
      ]
     },
     "execution_count": 31,
     "metadata": {},
     "output_type": "execute_result"
    }
   ],
   "source": [
    "# Outliers\n",
    "df = outliers(df)\n",
    "df.describe()"
   ]
  },
  {
   "cell_type": "markdown",
   "id": "f83b2c1a",
   "metadata": {},
   "source": [
    "# Encoding"
   ]
  },
  {
   "cell_type": "code",
   "execution_count": 32,
   "id": "d029922f",
   "metadata": {},
   "outputs": [
    {
     "data": {
      "text/html": [
       "<div>\n",
       "<style scoped>\n",
       "    .dataframe tbody tr th:only-of-type {\n",
       "        vertical-align: middle;\n",
       "    }\n",
       "\n",
       "    .dataframe tbody tr th {\n",
       "        vertical-align: top;\n",
       "    }\n",
       "\n",
       "    .dataframe thead th {\n",
       "        text-align: right;\n",
       "    }\n",
       "</style>\n",
       "<table border=\"1\" class=\"dataframe\">\n",
       "  <thead>\n",
       "    <tr style=\"text-align: right;\">\n",
       "      <th></th>\n",
       "      <th>Торговельна площа, кв м</th>\n",
       "      <th>Количество касс</th>\n",
       "      <th>Тип</th>\n",
       "      <th>Рейтинг в гуглі</th>\n",
       "      <th>Количество чеков</th>\n",
       "      <th>Средний чек</th>\n",
       "      <th>Населення</th>\n",
       "      <th>Середній дохід населення</th>\n",
       "      <th>Спеціалізоване мясо</th>\n",
       "      <th>Спеціалізований сир</th>\n",
       "      <th>Спеціалізована поб хімія</th>\n",
       "      <th>Супермаркет</th>\n",
       "      <th>Магазин біля дому</th>\n",
       "    </tr>\n",
       "  </thead>\n",
       "  <tbody>\n",
       "    <tr>\n",
       "      <th>0</th>\n",
       "      <td>9.000000</td>\n",
       "      <td>1.0</td>\n",
       "      <td>2</td>\n",
       "      <td>3.0</td>\n",
       "      <td>659.0</td>\n",
       "      <td>77.00000</td>\n",
       "      <td>108.0</td>\n",
       "      <td>14910.0</td>\n",
       "      <td>1</td>\n",
       "      <td>1</td>\n",
       "      <td>0</td>\n",
       "      <td>1</td>\n",
       "      <td>1</td>\n",
       "    </tr>\n",
       "    <tr>\n",
       "      <th>1</th>\n",
       "      <td>22.000000</td>\n",
       "      <td>1.0</td>\n",
       "      <td>2</td>\n",
       "      <td>4.1</td>\n",
       "      <td>1518.0</td>\n",
       "      <td>85.00000</td>\n",
       "      <td>750.0</td>\n",
       "      <td>9030.0</td>\n",
       "      <td>0</td>\n",
       "      <td>0</td>\n",
       "      <td>0</td>\n",
       "      <td>1</td>\n",
       "      <td>1</td>\n",
       "    </tr>\n",
       "    <tr>\n",
       "      <th>2</th>\n",
       "      <td>13.000000</td>\n",
       "      <td>1.0</td>\n",
       "      <td>2</td>\n",
       "      <td>3.0</td>\n",
       "      <td>476.0</td>\n",
       "      <td>112.00000</td>\n",
       "      <td>0.0</td>\n",
       "      <td>9030.0</td>\n",
       "      <td>0</td>\n",
       "      <td>0</td>\n",
       "      <td>0</td>\n",
       "      <td>0</td>\n",
       "      <td>0</td>\n",
       "    </tr>\n",
       "    <tr>\n",
       "      <th>3</th>\n",
       "      <td>18.000000</td>\n",
       "      <td>1.0</td>\n",
       "      <td>2</td>\n",
       "      <td>3.0</td>\n",
       "      <td>1310.0</td>\n",
       "      <td>120.00000</td>\n",
       "      <td>0.0</td>\n",
       "      <td>13930.0</td>\n",
       "      <td>1</td>\n",
       "      <td>0</td>\n",
       "      <td>0</td>\n",
       "      <td>1</td>\n",
       "      <td>1</td>\n",
       "    </tr>\n",
       "    <tr>\n",
       "      <th>4</th>\n",
       "      <td>25.000000</td>\n",
       "      <td>1.0</td>\n",
       "      <td>1</td>\n",
       "      <td>4.0</td>\n",
       "      <td>2029.0</td>\n",
       "      <td>95.00000</td>\n",
       "      <td>0.0</td>\n",
       "      <td>14560.0</td>\n",
       "      <td>0</td>\n",
       "      <td>0</td>\n",
       "      <td>0</td>\n",
       "      <td>0</td>\n",
       "      <td>0</td>\n",
       "    </tr>\n",
       "    <tr>\n",
       "      <th>...</th>\n",
       "      <td>...</td>\n",
       "      <td>...</td>\n",
       "      <td>...</td>\n",
       "      <td>...</td>\n",
       "      <td>...</td>\n",
       "      <td>...</td>\n",
       "      <td>...</td>\n",
       "      <td>...</td>\n",
       "      <td>...</td>\n",
       "      <td>...</td>\n",
       "      <td>...</td>\n",
       "      <td>...</td>\n",
       "      <td>...</td>\n",
       "    </tr>\n",
       "    <tr>\n",
       "      <th>64</th>\n",
       "      <td>40.780000</td>\n",
       "      <td>2.0</td>\n",
       "      <td>1</td>\n",
       "      <td>4.0</td>\n",
       "      <td>6884.0</td>\n",
       "      <td>107.00000</td>\n",
       "      <td>963.0</td>\n",
       "      <td>9800.0</td>\n",
       "      <td>0</td>\n",
       "      <td>0</td>\n",
       "      <td>1</td>\n",
       "      <td>0</td>\n",
       "      <td>0</td>\n",
       "    </tr>\n",
       "    <tr>\n",
       "      <th>65</th>\n",
       "      <td>21.500000</td>\n",
       "      <td>1.0</td>\n",
       "      <td>1</td>\n",
       "      <td>2.3</td>\n",
       "      <td>4721.0</td>\n",
       "      <td>89.00000</td>\n",
       "      <td>0.0</td>\n",
       "      <td>12600.0</td>\n",
       "      <td>1</td>\n",
       "      <td>1</td>\n",
       "      <td>1</td>\n",
       "      <td>0</td>\n",
       "      <td>0</td>\n",
       "    </tr>\n",
       "    <tr>\n",
       "      <th>66</th>\n",
       "      <td>94.050354</td>\n",
       "      <td>1.0</td>\n",
       "      <td>2</td>\n",
       "      <td>3.0</td>\n",
       "      <td>3286.0</td>\n",
       "      <td>106.00000</td>\n",
       "      <td>315.0</td>\n",
       "      <td>10570.0</td>\n",
       "      <td>0</td>\n",
       "      <td>0</td>\n",
       "      <td>0</td>\n",
       "      <td>0</td>\n",
       "      <td>1</td>\n",
       "    </tr>\n",
       "    <tr>\n",
       "      <th>67</th>\n",
       "      <td>34.800000</td>\n",
       "      <td>2.0</td>\n",
       "      <td>1</td>\n",
       "      <td>4.3</td>\n",
       "      <td>3963.0</td>\n",
       "      <td>147.40396</td>\n",
       "      <td>0.0</td>\n",
       "      <td>12460.0</td>\n",
       "      <td>1</td>\n",
       "      <td>1</td>\n",
       "      <td>0</td>\n",
       "      <td>0</td>\n",
       "      <td>0</td>\n",
       "    </tr>\n",
       "    <tr>\n",
       "      <th>68</th>\n",
       "      <td>22.000000</td>\n",
       "      <td>1.0</td>\n",
       "      <td>1</td>\n",
       "      <td>4.9</td>\n",
       "      <td>4200.0</td>\n",
       "      <td>102.00000</td>\n",
       "      <td>678.0</td>\n",
       "      <td>10430.0</td>\n",
       "      <td>1</td>\n",
       "      <td>1</td>\n",
       "      <td>0</td>\n",
       "      <td>0</td>\n",
       "      <td>0</td>\n",
       "    </tr>\n",
       "  </tbody>\n",
       "</table>\n",
       "<p>69 rows × 13 columns</p>\n",
       "</div>"
      ],
      "text/plain": [
       "    Торговельна площа, кв м  Количество касс  Тип  Рейтинг в гуглі  \\\n",
       "0                  9.000000              1.0    2              3.0   \n",
       "1                 22.000000              1.0    2              4.1   \n",
       "2                 13.000000              1.0    2              3.0   \n",
       "3                 18.000000              1.0    2              3.0   \n",
       "4                 25.000000              1.0    1              4.0   \n",
       "..                      ...              ...  ...              ...   \n",
       "64                40.780000              2.0    1              4.0   \n",
       "65                21.500000              1.0    1              2.3   \n",
       "66                94.050354              1.0    2              3.0   \n",
       "67                34.800000              2.0    1              4.3   \n",
       "68                22.000000              1.0    1              4.9   \n",
       "\n",
       "    Количество чеков  Средний чек  Населення  Середній дохід населення  \\\n",
       "0              659.0     77.00000      108.0                   14910.0   \n",
       "1             1518.0     85.00000      750.0                    9030.0   \n",
       "2              476.0    112.00000        0.0                    9030.0   \n",
       "3             1310.0    120.00000        0.0                   13930.0   \n",
       "4             2029.0     95.00000        0.0                   14560.0   \n",
       "..               ...          ...        ...                       ...   \n",
       "64            6884.0    107.00000      963.0                    9800.0   \n",
       "65            4721.0     89.00000        0.0                   12600.0   \n",
       "66            3286.0    106.00000      315.0                   10570.0   \n",
       "67            3963.0    147.40396        0.0                   12460.0   \n",
       "68            4200.0    102.00000      678.0                   10430.0   \n",
       "\n",
       "    Спеціалізоване мясо  Спеціалізований сир  Спеціалізована поб хімія  \\\n",
       "0                     1                    1                         0   \n",
       "1                     0                    0                         0   \n",
       "2                     0                    0                         0   \n",
       "3                     1                    0                         0   \n",
       "4                     0                    0                         0   \n",
       "..                  ...                  ...                       ...   \n",
       "64                    0                    0                         1   \n",
       "65                    1                    1                         1   \n",
       "66                    0                    0                         0   \n",
       "67                    1                    1                         0   \n",
       "68                    1                    1                         0   \n",
       "\n",
       "    Супермаркет  Магазин біля дому  \n",
       "0             1                  1  \n",
       "1             1                  1  \n",
       "2             0                  0  \n",
       "3             1                  1  \n",
       "4             0                  0  \n",
       "..          ...                ...  \n",
       "64            0                  0  \n",
       "65            0                  0  \n",
       "66            0                  1  \n",
       "67            0                  0  \n",
       "68            0                  0  \n",
       "\n",
       "[69 rows x 13 columns]"
      ]
     },
     "execution_count": 32,
     "metadata": {},
     "output_type": "execute_result"
    }
   ],
   "source": [
    "from sklearn import preprocessing\n",
    "df['Тип'] = preprocessing.LabelEncoder().fit_transform(df['Тип'])\n",
    "df\n",
    "# 1 - новый, 2 - старый. "
   ]
  },
  {
   "cell_type": "markdown",
   "id": "09eca79a",
   "metadata": {},
   "source": [
    "# Correlations "
   ]
  },
  {
   "cell_type": "code",
   "execution_count": 33,
   "id": "5d89d37e",
   "metadata": {},
   "outputs": [
    {
     "data": {
      "image/png": "[encoded data removed]",
      "text/plain": [
       "<Figure size 864x648 with 2 Axes>"
      ]
     },
     "metadata": {
      "needs_background": "light"
     },
     "output_type": "display_data"
    }
   ],
   "source": [
    "# Cheking correlations\n",
    "import seaborn as sns\n",
    "corrmat = df.corr()\n",
    "f, ax = plt.subplots(figsize=(12, 9))\n",
    "sns.heatmap(corrmat, annot=True)\n",
    "plt.show()"
   ]
  },
  {
   "cell_type": "markdown",
   "id": "d76f98cd",
   "metadata": {},
   "source": [
    "# Splitting"
   ]
  },
  {
   "cell_type": "code",
   "execution_count": 68,
   "id": "45b61fdd",
   "metadata": {},
   "outputs": [],
   "source": [
    "# Splitting the dataset into the Training set and Test set\n",
    "f = ['Торговельна площа, кв м','Количество касс','Тип','Рейтинг в гуглі','Средний чек','Населення','Середній дохід населення','Спеціалізоване мясо','Спеціалізований сир','Спеціалізована поб хімія','Супермаркет','Магазин біля дому']\n",
    "X = df[f]\n",
    "y = df['Количество чеков']\n",
    "from sklearn.model_selection import train_test_split\n",
    "X_train, X_test, y_train, y_test = train_test_split(X, y, test_size=0.2, random_state=10)"
   ]
  },
  {
   "cell_type": "markdown",
   "id": "cf722c12",
   "metadata": {},
   "source": [
    "# Simple Linear Regression "
   ]
  },
  {
   "cell_type": "code",
   "execution_count": 69,
   "id": "2f00b49f",
   "metadata": {},
   "outputs": [
    {
     "data": {
      "text/plain": [
       "(array([3352.8285387]), 42.95260112214601)"
      ]
     },
     "execution_count": 69,
     "metadata": {},
     "output_type": "execute_result"
    }
   ],
   "source": [
    "# Fitting Simple Linear Regression to the Training set \n",
    "f1 = ['Количество касс']\n",
    "\n",
    "from sklearn.linear_model import LinearRegression\n",
    "sr = LinearRegression().fit(X_train[f1], y_train)\n",
    "\n",
    "# Getting parameters\n",
    "sr.coef_, sr.intercept_"
   ]
  },
  {
   "cell_type": "code",
   "execution_count": 70,
   "id": "b6d550e9",
   "metadata": {},
   "outputs": [
    {
     "data": {
      "text/plain": [
       "0.451"
      ]
     },
     "execution_count": 70,
     "metadata": {},
     "output_type": "execute_result"
    }
   ],
   "source": [
    "# Predicting the Test set results\n",
    "y_pred = sr.predict(X_test[f1])\n",
    "\n",
    "# Coefficient of determination R^2\n",
    "sr.score(X_train[f1], y_train).round(3)"
   ]
  },
  {
   "cell_type": "code",
   "execution_count": 71,
   "id": "c53472ba",
   "metadata": {},
   "outputs": [
    {
     "data": {
      "text/plain": [
       "(1657.03, 1468.6)"
      ]
     },
     "execution_count": 71,
     "metadata": {},
     "output_type": "execute_result"
    }
   ],
   "source": [
    "# Mean squared error\n",
    "from sklearn.metrics import mean_squared_error\n",
    "mean_squared_error(y_train, sr.predict(X_train[f1]), squared=False).round(2), mean_squared_error(y_test, y_pred, squared=False).round(2)"
   ]
  },
  {
   "cell_type": "code",
   "execution_count": 72,
   "id": "5505f093",
   "metadata": {},
   "outputs": [
    {
     "data": {
      "image/png": "[encoded data removed]",
      "text/plain": [
       "<Figure size 432x288 with 1 Axes>"
      ]
     },
     "metadata": {
      "needs_background": "light"
     },
     "output_type": "display_data"
    }
   ],
   "source": [
    "# Visualising the Test set results\n",
    "plt.scatter(X_test['Количество касс'], y_test, color = 'red')\n",
    "plt.plot(X_test['Количество касс'], sr.predict(X_test[f1]), 'bo')\n",
    "plt.title('Количество чеков vs Количество касс (Test set)')\n",
    "plt.xlabel('Количество касс')\n",
    "plt.ylabel('Количество чеков')\n",
    "plt.show()"
   ]
  },
  {
   "cell_type": "markdown",
   "id": "05342a6d",
   "metadata": {},
   "source": [
    "# Multiple Linear Regression"
   ]
  },
  {
   "cell_type": "code",
   "execution_count": 73,
   "id": "3e27960a",
   "metadata": {},
   "outputs": [],
   "source": [
    "#!pip install statsmodels"
   ]
  },
  {
   "cell_type": "code",
   "execution_count": 74,
   "id": "ed365d9e",
   "metadata": {},
   "outputs": [
    {
     "data": {
      "text/plain": [
       "0.639"
      ]
     },
     "execution_count": 74,
     "metadata": {},
     "output_type": "execute_result"
    }
   ],
   "source": [
    "# Fitting Multiple Regression\n",
    "mr = LinearRegression().fit(X_train, y_train)\n",
    "\n",
    "# Coefficient of determination R^2\n",
    "mr.score(X_train, y_train).round(3)"
   ]
  },
  {
   "cell_type": "code",
   "execution_count": 75,
   "id": "0286b8b8",
   "metadata": {},
   "outputs": [
    {
     "data": {
      "image/png": "[encoded data removed]",
      "text/plain": [
       "<Figure size 432x288 with 1 Axes>"
      ]
     },
     "metadata": {
      "needs_background": "light"
     },
     "output_type": "display_data"
    }
   ],
   "source": [
    "# Visualising the Test set results\n",
    "plt.scatter(X_test['Количество касс'], y_test, color = 'red')\n",
    "plt.plot(X_test['Количество касс'], mr.predict(X_test), 'bo')\n",
    "plt.title('Количество чеков vs Количество касс (Test set)')\n",
    "plt.xlabel('Количество касс')\n",
    "plt.ylabel('Количество чеков')\n",
    "plt.show()"
   ]
  },
  {
   "cell_type": "code",
   "execution_count": 76,
   "id": "db70c78e",
   "metadata": {},
   "outputs": [
    {
     "data": {
      "text/html": [
       "<table class=\"simpletable\">\n",
       "<caption>OLS Regression Results</caption>\n",
       "<tr>\n",
       "  <th>Dep. Variable:</th>    <td>Количество чеков</td> <th>  R-squared:         </th> <td>   0.639</td>\n",
       "</tr>\n",
       "<tr>\n",
       "  <th>Model:</th>                   <td>OLS</td>       <th>  Adj. R-squared:    </th> <td>   0.535</td>\n",
       "</tr>\n",
       "<tr>\n",
       "  <th>Method:</th>             <td>Least Squares</td>  <th>  F-statistic:       </th> <td>   6.183</td>\n",
       "</tr>\n",
       "<tr>\n",
       "  <th>Date:</th>             <td>Thu, 21 Oct 2021</td> <th>  Prob (F-statistic):</th> <td>4.18e-06</td>\n",
       "</tr>\n",
       "<tr>\n",
       "  <th>Time:</th>                 <td>19:37:40</td>     <th>  Log-Likelihood:    </th> <td> -474.25</td>\n",
       "</tr>\n",
       "<tr>\n",
       "  <th>No. Observations:</th>      <td>    55</td>      <th>  AIC:               </th> <td>   974.5</td>\n",
       "</tr>\n",
       "<tr>\n",
       "  <th>Df Residuals:</th>          <td>    42</td>      <th>  BIC:               </th> <td>   1001.</td>\n",
       "</tr>\n",
       "<tr>\n",
       "  <th>Df Model:</th>              <td>    12</td>      <th>                     </th>     <td> </td>   \n",
       "</tr>\n",
       "<tr>\n",
       "  <th>Covariance Type:</th>      <td>nonrobust</td>    <th>                     </th>     <td> </td>   \n",
       "</tr>\n",
       "</table>\n",
       "<table class=\"simpletable\">\n",
       "<tr>\n",
       "              <td></td>                <th>coef</th>     <th>std err</th>      <th>t</th>      <th>P>|t|</th>  <th>[0.025</th>    <th>0.975]</th>  \n",
       "</tr>\n",
       "<tr>\n",
       "  <th>const</th>                    <td>  434.1396</td> <td> 2846.247</td> <td>    0.153</td> <td> 0.879</td> <td>-5309.819</td> <td> 6178.098</td>\n",
       "</tr>\n",
       "<tr>\n",
       "  <th>Торговельна площа, кв м</th>  <td>   16.2614</td> <td>   16.272</td> <td>    0.999</td> <td> 0.323</td> <td>  -16.577</td> <td>   49.100</td>\n",
       "</tr>\n",
       "<tr>\n",
       "  <th>Количество касс</th>          <td> 2840.7679</td> <td>  672.646</td> <td>    4.223</td> <td> 0.000</td> <td> 1483.313</td> <td> 4198.223</td>\n",
       "</tr>\n",
       "<tr>\n",
       "  <th>Тип</th>                      <td>-1265.7730</td> <td>  554.976</td> <td>   -2.281</td> <td> 0.028</td> <td>-2385.759</td> <td> -145.786</td>\n",
       "</tr>\n",
       "<tr>\n",
       "  <th>Рейтинг в гуглі</th>          <td> -261.8740</td> <td>  354.503</td> <td>   -0.739</td> <td> 0.464</td> <td> -977.290</td> <td>  453.541</td>\n",
       "</tr>\n",
       "<tr>\n",
       "  <th>Средний чек</th>              <td>   24.2126</td> <td>   16.815</td> <td>    1.440</td> <td> 0.157</td> <td>   -9.721</td> <td>   58.146</td>\n",
       "</tr>\n",
       "<tr>\n",
       "  <th>Населення</th>                <td>    0.3440</td> <td>    0.819</td> <td>    0.420</td> <td> 0.677</td> <td>   -1.309</td> <td>    1.997</td>\n",
       "</tr>\n",
       "<tr>\n",
       "  <th>Середній дохід населення</th> <td>   -0.0212</td> <td>    0.122</td> <td>   -0.174</td> <td> 0.862</td> <td>   -0.267</td> <td>    0.225</td>\n",
       "</tr>\n",
       "<tr>\n",
       "  <th>Спеціалізоване мясо</th>      <td> -661.8323</td> <td>  630.800</td> <td>   -1.049</td> <td> 0.300</td> <td>-1934.838</td> <td>  611.174</td>\n",
       "</tr>\n",
       "<tr>\n",
       "  <th>Спеціалізований сир</th>      <td>  825.9010</td> <td>  637.542</td> <td>    1.295</td> <td> 0.202</td> <td> -460.712</td> <td> 2112.514</td>\n",
       "</tr>\n",
       "<tr>\n",
       "  <th>Спеціалізована поб хімія</th> <td>  -39.9023</td> <td>  515.347</td> <td>   -0.077</td> <td> 0.939</td> <td>-1079.916</td> <td> 1000.111</td>\n",
       "</tr>\n",
       "<tr>\n",
       "  <th>Супермаркет</th>              <td> -268.8668</td> <td>  552.024</td> <td>   -0.487</td> <td> 0.629</td> <td>-1382.897</td> <td>  845.163</td>\n",
       "</tr>\n",
       "<tr>\n",
       "  <th>Магазин біля дому</th>        <td>  386.3022</td> <td>  557.214</td> <td>    0.693</td> <td> 0.492</td> <td> -738.201</td> <td> 1510.805</td>\n",
       "</tr>\n",
       "</table>\n",
       "<table class=\"simpletable\">\n",
       "<tr>\n",
       "  <th>Omnibus:</th>       <td> 0.849</td> <th>  Durbin-Watson:     </th> <td>   2.103</td>\n",
       "</tr>\n",
       "<tr>\n",
       "  <th>Prob(Omnibus):</th> <td> 0.654</td> <th>  Jarque-Bera (JB):  </th> <td>   0.388</td>\n",
       "</tr>\n",
       "<tr>\n",
       "  <th>Skew:</th>          <td>-0.188</td> <th>  Prob(JB):          </th> <td>   0.824</td>\n",
       "</tr>\n",
       "<tr>\n",
       "  <th>Kurtosis:</th>      <td> 3.167</td> <th>  Cond. No.          </th> <td>1.62e+05</td>\n",
       "</tr>\n",
       "</table><br/><br/>Notes:<br/>[1] Standard Errors assume that the covariance matrix of the errors is correctly specified.<br/>[2] The condition number is large, 1.62e+05. This might indicate that there are<br/>strong multicollinearity or other numerical problems."
      ],
      "text/plain": [
       "<class 'statsmodels.iolib.summary.Summary'>\n",
       "\"\"\"\n",
       "                            OLS Regression Results                            \n",
       "==============================================================================\n",
       "Dep. Variable:       Количество чеков   R-squared:                       0.639\n",
       "Model:                            OLS   Adj. R-squared:                  0.535\n",
       "Method:                 Least Squares   F-statistic:                     6.183\n",
       "Date:                Thu, 21 Oct 2021   Prob (F-statistic):           4.18e-06\n",
       "Time:                        19:37:40   Log-Likelihood:                -474.25\n",
       "No. Observations:                  55   AIC:                             974.5\n",
       "Df Residuals:                      42   BIC:                             1001.\n",
       "Df Model:                          12                                         \n",
       "Covariance Type:            nonrobust                                         \n",
       "============================================================================================\n",
       "                               coef    std err          t      P>|t|      [0.025      0.975]\n",
       "--------------------------------------------------------------------------------------------\n",
       "const                      434.1396   2846.247      0.153      0.879   -5309.819    6178.098\n",
       "Торговельна площа, кв м     16.2614     16.272      0.999      0.323     -16.577      49.100\n",
       "Количество касс           2840.7679    672.646      4.223      0.000    1483.313    4198.223\n",
       "Тип                      -1265.7730    554.976     -2.281      0.028   -2385.759    -145.786\n",
       "Рейтинг в гуглі           -261.8740    354.503     -0.739      0.464    -977.290     453.541\n",
       "Средний чек                 24.2126     16.815      1.440      0.157      -9.721      58.146\n",
       "Населення                    0.3440      0.819      0.420      0.677      -1.309       1.997\n",
       "Середній дохід населення    -0.0212      0.122     -0.174      0.862      -0.267       0.225\n",
       "Спеціалізоване мясо       -661.8323    630.800     -1.049      0.300   -1934.838     611.174\n",
       "Спеціалізований сир        825.9010    637.542      1.295      0.202    -460.712    2112.514\n",
       "Спеціалізована поб хімія   -39.9023    515.347     -0.077      0.939   -1079.916    1000.111\n",
       "Супермаркет               -268.8668    552.024     -0.487      0.629   -1382.897     845.163\n",
       "Магазин біля дому          386.3022    557.214      0.693      0.492    -738.201    1510.805\n",
       "==============================================================================\n",
       "Omnibus:                        0.849   Durbin-Watson:                   2.103\n",
       "Prob(Omnibus):                  0.654   Jarque-Bera (JB):                0.388\n",
       "Skew:                          -0.188   Prob(JB):                        0.824\n",
       "Kurtosis:                       3.167   Cond. No.                     1.62e+05\n",
       "==============================================================================\n",
       "\n",
       "Notes:\n",
       "[1] Standard Errors assume that the covariance matrix of the errors is correctly specified.\n",
       "[2] The condition number is large, 1.62e+05. This might indicate that there are\n",
       "strong multicollinearity or other numerical problems.\n",
       "\"\"\""
      ]
     },
     "execution_count": 76,
     "metadata": {},
     "output_type": "execute_result"
    }
   ],
   "source": [
    "# Checking p-values\n",
    "import statsmodels.api as sm\n",
    "X1 = sm.add_constant(X_train)\n",
    "mr1 = sm.OLS(y_train, X1).fit()\n",
    "#mr1.pvalues\n",
    "mr1.summary()"
   ]
  },
  {
   "cell_type": "markdown",
   "id": "c36c4465",
   "metadata": {},
   "source": [
    "# Recursive feature elimination"
   ]
  },
  {
   "cell_type": "code",
   "execution_count": 77,
   "id": "b786a340",
   "metadata": {},
   "outputs": [],
   "source": [
    "# Feature ranking with recursive feature elimination\n",
    "from sklearn.feature_selection import RFE\n",
    "n_features = X.shape[1]\n",
    "estimator = LinearRegression()\n",
    "selector = RFE(estimator, n_features_to_select = 3)\n",
    "selector = selector.fit(X, y)\n",
    "\n",
    "# Selected Features\n",
    "selected_columns=[]\n",
    "for i in range(n_features):\n",
    "    if selector.support_[i] == True:\n",
    "        selected_columns.append(i)\n",
    "        \n",
    "f_lm = []\n",
    "for column in selected_columns:\n",
    "    f_lm.append(X.columns[column])"
   ]
  },
  {
   "cell_type": "code",
   "execution_count": 78,
   "id": "52f27595",
   "metadata": {},
   "outputs": [
    {
     "data": {
      "text/plain": [
       "(array([ 3303.99323719, -1504.78020853,  -514.76985595]), 2141.377162683275)"
      ]
     },
     "execution_count": 78,
     "metadata": {},
     "output_type": "execute_result"
    }
   ],
   "source": [
    "# Fitting Optimized Multiple Regression\n",
    "mr_rfe = LinearRegression().fit(X_train[f_lm], y_train)\n",
    "\n",
    "# Getting parameters\n",
    "mr_rfe.coef_, mr_rfe.intercept_"
   ]
  },
  {
   "cell_type": "code",
   "execution_count": 79,
   "id": "d5252fd5",
   "metadata": {},
   "outputs": [
    {
     "data": {
      "text/plain": [
       "0.558"
      ]
     },
     "execution_count": 79,
     "metadata": {},
     "output_type": "execute_result"
    }
   ],
   "source": [
    "# Predicting the Test set results\n",
    "y_pred = mr_rfe.predict(X_test[f_lm])\n",
    "\n",
    "# Coefficient of determination R^2\n",
    "mr_rfe.score(X_train[f_lm], y_train).round(3)"
   ]
  },
  {
   "cell_type": "code",
   "execution_count": 80,
   "id": "c451dd07",
   "metadata": {},
   "outputs": [
    {
     "data": {
      "text/plain": [
       "(1486.53, 1011.72)"
      ]
     },
     "execution_count": 80,
     "metadata": {},
     "output_type": "execute_result"
    }
   ],
   "source": [
    "# Mean squared error\n",
    "mean_squared_error(y_train, mr_rfe.predict(X_train[f_lm]), squared=False).round(2), mean_squared_error(y_test, y_pred, squared=False).round(2)"
   ]
  },
  {
   "cell_type": "code",
   "execution_count": 81,
   "id": "f165f562",
   "metadata": {},
   "outputs": [
    {
     "data": {
      "image/png": "[encoded data removed]",
      "text/plain": [
       "<Figure size 432x288 with 1 Axes>"
      ]
     },
     "metadata": {
      "needs_background": "light"
     },
     "output_type": "display_data"
    }
   ],
   "source": [
    "# Visualising the Test set results\n",
    "plt.scatter(X_test['Количество касс'], y_test, color = 'red')\n",
    "plt.plot(X_test['Количество касс'], mr_rfe.predict(X_test[f_lm]), 'bo')\n",
    "plt.title('Количество чеков vs Количество касс (Test set)')\n",
    "plt.xlabel('Количество касс')\n",
    "plt.ylabel('Количество чеков')\n",
    "plt.show()"
   ]
  },
  {
   "cell_type": "markdown",
   "id": "67cfde48",
   "metadata": {},
   "source": [
    "# Backward Elimination"
   ]
  },
  {
   "cell_type": "code",
   "execution_count": 82,
   "id": "8566b894",
   "metadata": {},
   "outputs": [],
   "source": [
    "# Backward Elimination with p-values\n",
    "def backwardElimination(x, y, sl):\n",
    "    x = sm.add_constant(x)\n",
    "    numVars = x.shape[1]\n",
    "    for i in range(0, numVars):\n",
    "        regressor_OLS = sm.OLS(y, x).fit()\n",
    "        maxVar = max(regressor_OLS.pvalues)\n",
    "        if maxVar > sl:\n",
    "            for j in range(0, numVars - i):\n",
    "                if (regressor_OLS.pvalues[j] == maxVar):\n",
    "                    x = x.drop(x.columns[j], axis=1)\n",
    "    regressor_OLS.summary()\n",
    "    return x\n",
    "\n",
    "SL = 0.0001\n",
    "X_Modeled = backwardElimination(X_train, y_train, SL)"
   ]
  },
  {
   "cell_type": "code",
   "execution_count": 83,
   "id": "43cad9cc",
   "metadata": {},
   "outputs": [
    {
     "data": {
      "text/plain": [
       "0.451"
      ]
     },
     "execution_count": 83,
     "metadata": {},
     "output_type": "execute_result"
    }
   ],
   "source": [
    "# Fitting Optimized Multiple Regression\n",
    "mr_be = LinearRegression().fit(X_Modeled, y_train)\n",
    "\n",
    "# Coefficient of determination R^2\n",
    "mr_be.score(X_Modeled, y_train).round(3)"
   ]
  },
  {
   "cell_type": "markdown",
   "id": "bcc1d9fd",
   "metadata": {},
   "source": [
    "# Polynomial Regression"
   ]
  },
  {
   "cell_type": "code",
   "execution_count": 84,
   "id": "146da830",
   "metadata": {},
   "outputs": [
    {
     "data": {
      "text/plain": [
       "(array([ 9.18705094e-05, -7.77625765e+02,  1.55972621e+02,  2.99389558e+02,\n",
       "        -2.59774643e+02,  3.42879753e+02, -2.69270451e+01,  1.28434878e+01,\n",
       "        -5.67847089e+01, -4.84678673e+01,  9.92115308e+01, -2.13695967e+02,\n",
       "         3.30703657e+01, -2.59258742e-02, -8.71867490e+00,  2.81797604e+02,\n",
       "         1.54394212e+02,  4.84933066e-01,  4.70362579e-02, -9.56294511e-03,\n",
       "         2.13215470e+02, -1.04556966e+02,  2.61528940e+01, -7.40851400e+01,\n",
       "        -1.00399027e+02,  2.22675628e+02, -2.03886802e+02, -4.09635007e+02,\n",
       "         8.53020458e+00,  2.91277920e+00,  2.18122656e-01,  1.88317251e+02,\n",
       "        -3.12268474e+02,  2.18712730e+02,  6.02132331e+02, -1.31537367e+03,\n",
       "         1.00697312e+03,  6.28300872e+01,  2.36459433e+01,  5.68291460e+00,\n",
       "        -1.18569296e+00, -2.29522341e+02,  2.82034420e+02,  5.57634055e+01,\n",
       "        -1.36584109e+03, -2.77032083e+02, -7.18378940e+01,  5.18372695e+01,\n",
       "         2.36544750e+00, -6.73937280e-01, -3.82585925e+02, -9.11550629e+02,\n",
       "        -7.83315813e+02, -1.07128240e+03,  2.92111691e+02,  1.24043956e-01,\n",
       "         9.04679517e-02, -5.31567134e-02, -8.49482102e+01,  1.39806714e+02,\n",
       "        -5.90649180e+01,  1.40294857e+02, -2.36037943e+01, -8.73526775e-04,\n",
       "         7.04575752e-05,  3.68623982e+00,  1.72519217e+00, -1.98147051e+00,\n",
       "        -1.74332338e+00, -4.82693523e+00, -1.54521181e-04, -1.07259273e-01,\n",
       "        -3.38015331e-01,  5.93750538e-01, -1.77112204e-01,  7.35828404e-01,\n",
       "        -5.67847087e+01, -1.21360662e+03,  4.90071355e+02, -8.53662830e+01,\n",
       "        -7.16596061e+02, -4.84678675e+01,  6.48616523e+01, -9.55596805e+02,\n",
       "         7.98418689e+02,  9.92115314e+01, -9.16319647e+01, -2.38992181e+02,\n",
       "        -2.13695967e+02, -1.47076209e+03,  3.30703657e+01]),\n",
       " -80184.104036347)"
      ]
     },
     "execution_count": 84,
     "metadata": {},
     "output_type": "execute_result"
    }
   ],
   "source": [
    "# Fitting Polynomial Regression to the dataset\n",
    "from sklearn.preprocessing import PolynomialFeatures\n",
    "X_train_p = PolynomialFeatures().fit_transform(X_train)\n",
    "X_test_p = PolynomialFeatures().fit_transform(X_test)\n",
    "\n",
    "pr = LinearRegression().fit(X_train_p, y_train)\n",
    "\n",
    "# Getting parameters\n",
    "pr.coef_, pr.intercept_"
   ]
  },
  {
   "cell_type": "code",
   "execution_count": 85,
   "id": "4b9cdf76",
   "metadata": {},
   "outputs": [
    {
     "data": {
      "text/plain": [
       "1.0"
      ]
     },
     "execution_count": 85,
     "metadata": {},
     "output_type": "execute_result"
    }
   ],
   "source": [
    "# Predicting the Test set results\n",
    "y_pred = pr.predict(X_test_p)\n",
    "\n",
    "# Coefficient of determination R^2\n",
    "pr.score(X_train_p, y_train).round(3)"
   ]
  },
  {
   "cell_type": "code",
   "execution_count": 86,
   "id": "75d42587",
   "metadata": {},
   "outputs": [
    {
     "data": {
      "text/plain": [
       "(0.0, 3577.3)"
      ]
     },
     "execution_count": 86,
     "metadata": {},
     "output_type": "execute_result"
    }
   ],
   "source": [
    "# Mean squared error\n",
    "mean_squared_error(y_train, pr.predict(X_train_p), squared=False).round(2), mean_squared_error(y_test, y_pred, squared=False).round(2)"
   ]
  },
  {
   "cell_type": "code",
   "execution_count": 87,
   "id": "1a00196d",
   "metadata": {},
   "outputs": [
    {
     "data": {
      "image/png": "[encoded data removed]",
      "text/plain": [
       "<Figure size 432x288 with 1 Axes>"
      ]
     },
     "metadata": {
      "needs_background": "light"
     },
     "output_type": "display_data"
    }
   ],
   "source": [
    "# Visualising the Test set results\n",
    "plt.scatter(X_test['Количество касс'], y_test, color = 'red')\n",
    "plt.plot(X_test['Количество касс'], pr.predict(X_test_p), 'bo')\n",
    "plt.title('Количество чеков vs Количество касс (Test set)')\n",
    "plt.xlabel('Количество касс')\n",
    "plt.ylabel('Количество чеков')\n",
    "plt.show()"
   ]
  },
  {
   "cell_type": "code",
   "execution_count": null,
   "id": "3577c9b4",
   "metadata": {},
   "outputs": [],
   "source": []
  }
 ],
 "metadata": {
  "kernelspec": {
   "display_name": "Python 3",
   "language": "python",
   "name": "python3"
  },
  "language_info": {
   "codemirror_mode": {
    "name": "ipython",
    "version": 3
   },
   "file_extension": ".py",
   "mimetype": "text/x-python",
   "name": "python",
   "nbconvert_exporter": "python",
   "pygments_lexer": "ipython3",
   "version": "3.8.8"
  }
 },
 "nbformat": 4,
 "nbformat_minor": 5
}
